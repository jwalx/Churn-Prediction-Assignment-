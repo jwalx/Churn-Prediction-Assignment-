{
  "metadata": {
    "kernelspec": {
      "language": "python",
      "display_name": "Python 3",
      "name": "python3"
    },
    "language_info": {
      "name": "python",
      "version": "3.10.12",
      "mimetype": "text/x-python",
      "codemirror_mode": {
        "name": "ipython",
        "version": 3
      },
      "pygments_lexer": "ipython3",
      "nbconvert_exporter": "python",
      "file_extension": ".py"
    },
    "colab": {
      "provenance": [],
      "include_colab_link": true
    }
  },
  "nbformat_minor": 0,
  "nbformat": 4,
  "cells": [
    {
      "cell_type": "markdown",
      "metadata": {
        "id": "view-in-github",
        "colab_type": "text"
      },
      "source": [
        "<a href=\"https://colab.research.google.com/github/jwalx/Churn-Prediction-Assignment-/blob/main/customer_churn_prediction.ipynb\" target=\"_parent\"><img src=\"https://colab.research.google.com/assets/colab-badge.svg\" alt=\"Open In Colab\"/></a>"
      ]
    },
    {
      "cell_type": "markdown",
      "source": [
        "<h1>Customer Churn Prediction</h1>"
      ],
      "metadata": {
        "id": "wcHhhP81YjPI"
      }
    },
    {
      "cell_type": "markdown",
      "source": [
        "# Project Aim"
      ],
      "metadata": {
        "id": "ZVlNxrLFYjPN"
      }
    },
    {
      "cell_type": "markdown",
      "source": [
        "**The aim of this project is to develop a machine learning model that predicts customer churn based on historical customer data. The project will adhere to a conventional workflow commonly seen in machine learning projects, which includes data preprocessing, model building, evaluation, and eventual model deployment.**"
      ],
      "metadata": {
        "id": "YYj9VKcaYjPO"
      }
    },
    {
      "cell_type": "markdown",
      "source": [
        "# Importing Libraries"
      ],
      "metadata": {
        "id": "x0EEjFUiYjPO"
      }
    },
    {
      "cell_type": "code",
      "source": [
        "import warnings\n",
        "warnings.filterwarnings(\"ignore\")"
      ],
      "metadata": {
        "execution": {
          "iopub.status.busy": "2023-09-05T13:01:20.300086Z",
          "iopub.execute_input": "2023-09-05T13:01:20.300771Z",
          "iopub.status.idle": "2023-09-05T13:01:20.305853Z",
          "shell.execute_reply.started": "2023-09-05T13:01:20.300736Z",
          "shell.execute_reply": "2023-09-05T13:01:20.304876Z"
        },
        "trusted": true,
        "id": "XxAaGaRwYjPP"
      },
      "execution_count": 1,
      "outputs": []
    },
    {
      "cell_type": "code",
      "source": [
        "\n",
        "import numpy as np\n",
        "import pandas as pd\n",
        "\n",
        "import matplotlib.pyplot as plt\n",
        "import seaborn as sns\n",
        "\n",
        "from sklearn.model_selection import train_test_split\n",
        "from sklearn.compose import ColumnTransformer\n",
        "from sklearn.preprocessing import OneHotEncoder, MinMaxScaler\n",
        "from sklearn.impute import SimpleImputer\n",
        "from sklearn.pipeline import Pipeline\n",
        "from sklearn.linear_model import SGDClassifier\n",
        "import pickle\n",
        "\n",
        "from sklearn.model_selection import cross_val_score\n",
        "from sklearn.metrics import classification_report, accuracy_score, precision_score, recall_score, f1_score\n",
        "from sklearn.linear_model import LogisticRegression\n",
        "from sklearn.ensemble import RandomForestClassifier, GradientBoostingClassifier\n",
        "from sklearn.svm import SVC\n",
        "from sklearn.neighbors import KNeighborsClassifier\n",
        "from sklearn.datasets import make_classification\n",
        "from joblib import dump\n",
        "\n",
        "import tensorflow as tf\n",
        "from tensorflow import keras\n",
        "from tensorflow.keras.layers import Dense, Dropout, BatchNormalization\n",
        "from tensorflow.keras.initializers import he_normal\n",
        "from tensorflow.keras.callbacks import EarlyStopping, LearningRateScheduler"
      ],
      "metadata": {
        "_uuid": "8f2839f25d086af736a60e9eeb907d3b93b6e0e5",
        "_cell_guid": "b1076dfc-b9ad-4769-8c92-a6c4dae69d19",
        "execution": {
          "iopub.status.busy": "2023-09-05T13:01:20.308329Z",
          "iopub.execute_input": "2023-09-05T13:01:20.309021Z",
          "iopub.status.idle": "2023-09-05T13:01:20.318936Z",
          "shell.execute_reply.started": "2023-09-05T13:01:20.308988Z",
          "shell.execute_reply": "2023-09-05T13:01:20.317969Z"
        },
        "trusted": true,
        "id": "2UTtG9HeYjPQ"
      },
      "execution_count": 3,
      "outputs": []
    },
    {
      "cell_type": "markdown",
      "source": [
        "# Will have to upload the data manually because read_excel is not working properly\n",
        "# Once we upload the data we can start reading the data"
      ],
      "metadata": {
        "id": "l1CIgjToYjPR"
      }
    },
    {
      "cell_type": "code",
      "source": [
        "customer_data = pd.read_excel('/content/customer_churn_large_dataset.xlsx',engine=\"openpyxl\")"
      ],
      "metadata": {
        "id": "Mhi36ngNZH7S"
      },
      "execution_count": 11,
      "outputs": []
    },
    {
      "cell_type": "code",
      "source": [
        "customer_data.shape"
      ],
      "metadata": {
        "execution": {
          "iopub.status.busy": "2023-09-05T13:01:50.243836Z",
          "iopub.execute_input": "2023-09-05T13:01:50.244191Z",
          "iopub.status.idle": "2023-09-05T13:01:50.252733Z",
          "shell.execute_reply.started": "2023-09-05T13:01:50.244158Z",
          "shell.execute_reply": "2023-09-05T13:01:50.251604Z"
        },
        "trusted": true,
        "colab": {
          "base_uri": "https://localhost:8080/"
        },
        "id": "38prWcQ5YjPS",
        "outputId": "1f75cd29-dc13-4c36-bfa8-dcdf52e06093"
      },
      "execution_count": 12,
      "outputs": [
        {
          "output_type": "execute_result",
          "data": {
            "text/plain": [
              "(100000, 9)"
            ]
          },
          "metadata": {},
          "execution_count": 12
        }
      ]
    },
    {
      "cell_type": "markdown",
      "source": [
        "* The dataset contains 100,000 individual data records.\n",
        "* There are 9 columns or attributes in the dataset, each storing different types of information for these records."
      ],
      "metadata": {
        "id": "J6EgT40LYjPT"
      }
    },
    {
      "cell_type": "code",
      "source": [
        "customer_data.columns"
      ],
      "metadata": {
        "execution": {
          "iopub.status.busy": "2023-09-05T13:01:50.254043Z",
          "iopub.execute_input": "2023-09-05T13:01:50.255001Z",
          "iopub.status.idle": "2023-09-05T13:01:50.265228Z",
          "shell.execute_reply.started": "2023-09-05T13:01:50.254969Z",
          "shell.execute_reply": "2023-09-05T13:01:50.264243Z"
        },
        "trusted": true,
        "colab": {
          "base_uri": "https://localhost:8080/"
        },
        "id": "ExVDvnKcYjPT",
        "outputId": "f00da86a-9bb4-4f5a-c58c-d971f261823a"
      },
      "execution_count": 13,
      "outputs": [
        {
          "output_type": "execute_result",
          "data": {
            "text/plain": [
              "Index(['CustomerID', 'Name', 'Age', 'Gender', 'Location',\n",
              "       'Subscription_Length_Months', 'Monthly_Bill', 'Total_Usage_GB',\n",
              "       'Churn'],\n",
              "      dtype='object')"
            ]
          },
          "metadata": {},
          "execution_count": 13
        }
      ]
    },
    {
      "cell_type": "markdown",
      "source": [
        "Small explanations for each of the columns in the dataset:\n",
        "\n",
        "1. `CustomerID`: Unique identifier for each customer.\n",
        "2. `Name`: Customer's name or identifier.\n",
        "3. `Age`: Age of the customer.\n",
        "4. `Gender`: Gender of the customer (e.g., Male, Female, Other).\n",
        "5. `Location`: Customer's geographical location.\n",
        "6. `Subscription_Length_Months`: Duration of the customer's subscription in months.\n",
        "7. `Monthly_Bill`: The monthly bill amount for the customer.\n",
        "8. `Total_Usage_GB`: Total data usage in gigabytes.\n",
        "9. `Churn`: A binary indicator (1 or 0) representing whether the customer churned (left) or not."
      ],
      "metadata": {
        "id": "hsVmyuc-YjPU"
      }
    },
    {
      "cell_type": "code",
      "source": [
        "customer_data.info()"
      ],
      "metadata": {
        "execution": {
          "iopub.status.busy": "2023-09-05T13:01:50.266904Z",
          "iopub.execute_input": "2023-09-05T13:01:50.267288Z",
          "iopub.status.idle": "2023-09-05T13:01:50.309816Z",
          "shell.execute_reply.started": "2023-09-05T13:01:50.267257Z",
          "shell.execute_reply": "2023-09-05T13:01:50.308774Z"
        },
        "trusted": true,
        "colab": {
          "base_uri": "https://localhost:8080/"
        },
        "id": "Q2zq35VAYjPU",
        "outputId": "f309a8a4-b8a4-4b24-93c2-7bbdc0c76473"
      },
      "execution_count": 14,
      "outputs": [
        {
          "output_type": "stream",
          "name": "stdout",
          "text": [
            "<class 'pandas.core.frame.DataFrame'>\n",
            "RangeIndex: 100000 entries, 0 to 99999\n",
            "Data columns (total 9 columns):\n",
            " #   Column                      Non-Null Count   Dtype  \n",
            "---  ------                      --------------   -----  \n",
            " 0   CustomerID                  100000 non-null  int64  \n",
            " 1   Name                        100000 non-null  object \n",
            " 2   Age                         100000 non-null  int64  \n",
            " 3   Gender                      100000 non-null  object \n",
            " 4   Location                    100000 non-null  object \n",
            " 5   Subscription_Length_Months  100000 non-null  int64  \n",
            " 6   Monthly_Bill                100000 non-null  float64\n",
            " 7   Total_Usage_GB              100000 non-null  int64  \n",
            " 8   Churn                       100000 non-null  int64  \n",
            "dtypes: float64(1), int64(5), object(3)\n",
            "memory usage: 6.9+ MB\n"
          ]
        }
      ]
    },
    {
      "cell_type": "code",
      "source": [
        "customer_data.head(10)"
      ],
      "metadata": {
        "execution": {
          "iopub.status.busy": "2023-09-05T13:01:50.311292Z",
          "iopub.execute_input": "2023-09-05T13:01:50.311645Z",
          "iopub.status.idle": "2023-09-05T13:01:50.328759Z",
          "shell.execute_reply.started": "2023-09-05T13:01:50.311613Z",
          "shell.execute_reply": "2023-09-05T13:01:50.327668Z"
        },
        "trusted": true,
        "colab": {
          "base_uri": "https://localhost:8080/",
          "height": 363
        },
        "id": "-dS2INqQYjPU",
        "outputId": "d8cb08bd-4a26-4eb5-f85b-e5d5dfaa7300"
      },
      "execution_count": 15,
      "outputs": [
        {
          "output_type": "execute_result",
          "data": {
            "text/plain": [
              "   CustomerID         Name  Age  Gender     Location  \\\n",
              "0           1   Customer_1   63    Male  Los Angeles   \n",
              "1           2   Customer_2   62  Female     New York   \n",
              "2           3   Customer_3   24  Female  Los Angeles   \n",
              "3           4   Customer_4   36  Female        Miami   \n",
              "4           5   Customer_5   46  Female        Miami   \n",
              "5           6   Customer_6   67    Male     New York   \n",
              "6           7   Customer_7   30  Female      Chicago   \n",
              "7           8   Customer_8   67  Female        Miami   \n",
              "8           9   Customer_9   20  Female        Miami   \n",
              "9          10  Customer_10   53  Female  Los Angeles   \n",
              "\n",
              "   Subscription_Length_Months  Monthly_Bill  Total_Usage_GB  Churn  \n",
              "0                          17         73.36             236      0  \n",
              "1                           1         48.76             172      0  \n",
              "2                           5         85.47             460      0  \n",
              "3                           3         97.94             297      1  \n",
              "4                          19         58.14             266      0  \n",
              "5                          15         82.65             456      1  \n",
              "6                           3         73.79             269      0  \n",
              "7                           1         97.70             396      1  \n",
              "8                          10         42.45             150      1  \n",
              "9                          12         64.49             383      1  "
            ],
            "text/html": [
              "\n",
              "  <div id=\"df-7a4e0ee9-a419-438e-a4fd-72f8ec1d9c63\" class=\"colab-df-container\">\n",
              "    <div>\n",
              "<style scoped>\n",
              "    .dataframe tbody tr th:only-of-type {\n",
              "        vertical-align: middle;\n",
              "    }\n",
              "\n",
              "    .dataframe tbody tr th {\n",
              "        vertical-align: top;\n",
              "    }\n",
              "\n",
              "    .dataframe thead th {\n",
              "        text-align: right;\n",
              "    }\n",
              "</style>\n",
              "<table border=\"1\" class=\"dataframe\">\n",
              "  <thead>\n",
              "    <tr style=\"text-align: right;\">\n",
              "      <th></th>\n",
              "      <th>CustomerID</th>\n",
              "      <th>Name</th>\n",
              "      <th>Age</th>\n",
              "      <th>Gender</th>\n",
              "      <th>Location</th>\n",
              "      <th>Subscription_Length_Months</th>\n",
              "      <th>Monthly_Bill</th>\n",
              "      <th>Total_Usage_GB</th>\n",
              "      <th>Churn</th>\n",
              "    </tr>\n",
              "  </thead>\n",
              "  <tbody>\n",
              "    <tr>\n",
              "      <th>0</th>\n",
              "      <td>1</td>\n",
              "      <td>Customer_1</td>\n",
              "      <td>63</td>\n",
              "      <td>Male</td>\n",
              "      <td>Los Angeles</td>\n",
              "      <td>17</td>\n",
              "      <td>73.36</td>\n",
              "      <td>236</td>\n",
              "      <td>0</td>\n",
              "    </tr>\n",
              "    <tr>\n",
              "      <th>1</th>\n",
              "      <td>2</td>\n",
              "      <td>Customer_2</td>\n",
              "      <td>62</td>\n",
              "      <td>Female</td>\n",
              "      <td>New York</td>\n",
              "      <td>1</td>\n",
              "      <td>48.76</td>\n",
              "      <td>172</td>\n",
              "      <td>0</td>\n",
              "    </tr>\n",
              "    <tr>\n",
              "      <th>2</th>\n",
              "      <td>3</td>\n",
              "      <td>Customer_3</td>\n",
              "      <td>24</td>\n",
              "      <td>Female</td>\n",
              "      <td>Los Angeles</td>\n",
              "      <td>5</td>\n",
              "      <td>85.47</td>\n",
              "      <td>460</td>\n",
              "      <td>0</td>\n",
              "    </tr>\n",
              "    <tr>\n",
              "      <th>3</th>\n",
              "      <td>4</td>\n",
              "      <td>Customer_4</td>\n",
              "      <td>36</td>\n",
              "      <td>Female</td>\n",
              "      <td>Miami</td>\n",
              "      <td>3</td>\n",
              "      <td>97.94</td>\n",
              "      <td>297</td>\n",
              "      <td>1</td>\n",
              "    </tr>\n",
              "    <tr>\n",
              "      <th>4</th>\n",
              "      <td>5</td>\n",
              "      <td>Customer_5</td>\n",
              "      <td>46</td>\n",
              "      <td>Female</td>\n",
              "      <td>Miami</td>\n",
              "      <td>19</td>\n",
              "      <td>58.14</td>\n",
              "      <td>266</td>\n",
              "      <td>0</td>\n",
              "    </tr>\n",
              "    <tr>\n",
              "      <th>5</th>\n",
              "      <td>6</td>\n",
              "      <td>Customer_6</td>\n",
              "      <td>67</td>\n",
              "      <td>Male</td>\n",
              "      <td>New York</td>\n",
              "      <td>15</td>\n",
              "      <td>82.65</td>\n",
              "      <td>456</td>\n",
              "      <td>1</td>\n",
              "    </tr>\n",
              "    <tr>\n",
              "      <th>6</th>\n",
              "      <td>7</td>\n",
              "      <td>Customer_7</td>\n",
              "      <td>30</td>\n",
              "      <td>Female</td>\n",
              "      <td>Chicago</td>\n",
              "      <td>3</td>\n",
              "      <td>73.79</td>\n",
              "      <td>269</td>\n",
              "      <td>0</td>\n",
              "    </tr>\n",
              "    <tr>\n",
              "      <th>7</th>\n",
              "      <td>8</td>\n",
              "      <td>Customer_8</td>\n",
              "      <td>67</td>\n",
              "      <td>Female</td>\n",
              "      <td>Miami</td>\n",
              "      <td>1</td>\n",
              "      <td>97.70</td>\n",
              "      <td>396</td>\n",
              "      <td>1</td>\n",
              "    </tr>\n",
              "    <tr>\n",
              "      <th>8</th>\n",
              "      <td>9</td>\n",
              "      <td>Customer_9</td>\n",
              "      <td>20</td>\n",
              "      <td>Female</td>\n",
              "      <td>Miami</td>\n",
              "      <td>10</td>\n",
              "      <td>42.45</td>\n",
              "      <td>150</td>\n",
              "      <td>1</td>\n",
              "    </tr>\n",
              "    <tr>\n",
              "      <th>9</th>\n",
              "      <td>10</td>\n",
              "      <td>Customer_10</td>\n",
              "      <td>53</td>\n",
              "      <td>Female</td>\n",
              "      <td>Los Angeles</td>\n",
              "      <td>12</td>\n",
              "      <td>64.49</td>\n",
              "      <td>383</td>\n",
              "      <td>1</td>\n",
              "    </tr>\n",
              "  </tbody>\n",
              "</table>\n",
              "</div>\n",
              "    <div class=\"colab-df-buttons\">\n",
              "\n",
              "  <div class=\"colab-df-container\">\n",
              "    <button class=\"colab-df-convert\" onclick=\"convertToInteractive('df-7a4e0ee9-a419-438e-a4fd-72f8ec1d9c63')\"\n",
              "            title=\"Convert this dataframe to an interactive table.\"\n",
              "            style=\"display:none;\">\n",
              "\n",
              "  <svg xmlns=\"http://www.w3.org/2000/svg\" height=\"24px\" viewBox=\"0 -960 960 960\">\n",
              "    <path d=\"M120-120v-720h720v720H120Zm60-500h600v-160H180v160Zm220 220h160v-160H400v160Zm0 220h160v-160H400v160ZM180-400h160v-160H180v160Zm440 0h160v-160H620v160ZM180-180h160v-160H180v160Zm440 0h160v-160H620v160Z\"/>\n",
              "  </svg>\n",
              "    </button>\n",
              "\n",
              "  <style>\n",
              "    .colab-df-container {\n",
              "      display:flex;\n",
              "      gap: 12px;\n",
              "    }\n",
              "\n",
              "    .colab-df-convert {\n",
              "      background-color: #E8F0FE;\n",
              "      border: none;\n",
              "      border-radius: 50%;\n",
              "      cursor: pointer;\n",
              "      display: none;\n",
              "      fill: #1967D2;\n",
              "      height: 32px;\n",
              "      padding: 0 0 0 0;\n",
              "      width: 32px;\n",
              "    }\n",
              "\n",
              "    .colab-df-convert:hover {\n",
              "      background-color: #E2EBFA;\n",
              "      box-shadow: 0px 1px 2px rgba(60, 64, 67, 0.3), 0px 1px 3px 1px rgba(60, 64, 67, 0.15);\n",
              "      fill: #174EA6;\n",
              "    }\n",
              "\n",
              "    .colab-df-buttons div {\n",
              "      margin-bottom: 4px;\n",
              "    }\n",
              "\n",
              "    [theme=dark] .colab-df-convert {\n",
              "      background-color: #3B4455;\n",
              "      fill: #D2E3FC;\n",
              "    }\n",
              "\n",
              "    [theme=dark] .colab-df-convert:hover {\n",
              "      background-color: #434B5C;\n",
              "      box-shadow: 0px 1px 3px 1px rgba(0, 0, 0, 0.15);\n",
              "      filter: drop-shadow(0px 1px 2px rgba(0, 0, 0, 0.3));\n",
              "      fill: #FFFFFF;\n",
              "    }\n",
              "  </style>\n",
              "\n",
              "    <script>\n",
              "      const buttonEl =\n",
              "        document.querySelector('#df-7a4e0ee9-a419-438e-a4fd-72f8ec1d9c63 button.colab-df-convert');\n",
              "      buttonEl.style.display =\n",
              "        google.colab.kernel.accessAllowed ? 'block' : 'none';\n",
              "\n",
              "      async function convertToInteractive(key) {\n",
              "        const element = document.querySelector('#df-7a4e0ee9-a419-438e-a4fd-72f8ec1d9c63');\n",
              "        const dataTable =\n",
              "          await google.colab.kernel.invokeFunction('convertToInteractive',\n",
              "                                                    [key], {});\n",
              "        if (!dataTable) return;\n",
              "\n",
              "        const docLinkHtml = 'Like what you see? Visit the ' +\n",
              "          '<a target=\"_blank\" href=https://colab.research.google.com/notebooks/data_table.ipynb>data table notebook</a>'\n",
              "          + ' to learn more about interactive tables.';\n",
              "        element.innerHTML = '';\n",
              "        dataTable['output_type'] = 'display_data';\n",
              "        await google.colab.output.renderOutput(dataTable, element);\n",
              "        const docLink = document.createElement('div');\n",
              "        docLink.innerHTML = docLinkHtml;\n",
              "        element.appendChild(docLink);\n",
              "      }\n",
              "    </script>\n",
              "  </div>\n",
              "\n",
              "\n",
              "<div id=\"df-2d953be7-b495-4a5e-aba1-58ea8bb44e60\">\n",
              "  <button class=\"colab-df-quickchart\" onclick=\"quickchart('df-2d953be7-b495-4a5e-aba1-58ea8bb44e60')\"\n",
              "            title=\"Suggest charts.\"\n",
              "            style=\"display:none;\">\n",
              "\n",
              "<svg xmlns=\"http://www.w3.org/2000/svg\" height=\"24px\"viewBox=\"0 0 24 24\"\n",
              "     width=\"24px\">\n",
              "    <g>\n",
              "        <path d=\"M19 3H5c-1.1 0-2 .9-2 2v14c0 1.1.9 2 2 2h14c1.1 0 2-.9 2-2V5c0-1.1-.9-2-2-2zM9 17H7v-7h2v7zm4 0h-2V7h2v10zm4 0h-2v-4h2v4z\"/>\n",
              "    </g>\n",
              "</svg>\n",
              "  </button>\n",
              "\n",
              "<style>\n",
              "  .colab-df-quickchart {\n",
              "      --bg-color: #E8F0FE;\n",
              "      --fill-color: #1967D2;\n",
              "      --hover-bg-color: #E2EBFA;\n",
              "      --hover-fill-color: #174EA6;\n",
              "      --disabled-fill-color: #AAA;\n",
              "      --disabled-bg-color: #DDD;\n",
              "  }\n",
              "\n",
              "  [theme=dark] .colab-df-quickchart {\n",
              "      --bg-color: #3B4455;\n",
              "      --fill-color: #D2E3FC;\n",
              "      --hover-bg-color: #434B5C;\n",
              "      --hover-fill-color: #FFFFFF;\n",
              "      --disabled-bg-color: #3B4455;\n",
              "      --disabled-fill-color: #666;\n",
              "  }\n",
              "\n",
              "  .colab-df-quickchart {\n",
              "    background-color: var(--bg-color);\n",
              "    border: none;\n",
              "    border-radius: 50%;\n",
              "    cursor: pointer;\n",
              "    display: none;\n",
              "    fill: var(--fill-color);\n",
              "    height: 32px;\n",
              "    padding: 0;\n",
              "    width: 32px;\n",
              "  }\n",
              "\n",
              "  .colab-df-quickchart:hover {\n",
              "    background-color: var(--hover-bg-color);\n",
              "    box-shadow: 0 1px 2px rgba(60, 64, 67, 0.3), 0 1px 3px 1px rgba(60, 64, 67, 0.15);\n",
              "    fill: var(--button-hover-fill-color);\n",
              "  }\n",
              "\n",
              "  .colab-df-quickchart-complete:disabled,\n",
              "  .colab-df-quickchart-complete:disabled:hover {\n",
              "    background-color: var(--disabled-bg-color);\n",
              "    fill: var(--disabled-fill-color);\n",
              "    box-shadow: none;\n",
              "  }\n",
              "\n",
              "  .colab-df-spinner {\n",
              "    border: 2px solid var(--fill-color);\n",
              "    border-color: transparent;\n",
              "    border-bottom-color: var(--fill-color);\n",
              "    animation:\n",
              "      spin 1s steps(1) infinite;\n",
              "  }\n",
              "\n",
              "  @keyframes spin {\n",
              "    0% {\n",
              "      border-color: transparent;\n",
              "      border-bottom-color: var(--fill-color);\n",
              "      border-left-color: var(--fill-color);\n",
              "    }\n",
              "    20% {\n",
              "      border-color: transparent;\n",
              "      border-left-color: var(--fill-color);\n",
              "      border-top-color: var(--fill-color);\n",
              "    }\n",
              "    30% {\n",
              "      border-color: transparent;\n",
              "      border-left-color: var(--fill-color);\n",
              "      border-top-color: var(--fill-color);\n",
              "      border-right-color: var(--fill-color);\n",
              "    }\n",
              "    40% {\n",
              "      border-color: transparent;\n",
              "      border-right-color: var(--fill-color);\n",
              "      border-top-color: var(--fill-color);\n",
              "    }\n",
              "    60% {\n",
              "      border-color: transparent;\n",
              "      border-right-color: var(--fill-color);\n",
              "    }\n",
              "    80% {\n",
              "      border-color: transparent;\n",
              "      border-right-color: var(--fill-color);\n",
              "      border-bottom-color: var(--fill-color);\n",
              "    }\n",
              "    90% {\n",
              "      border-color: transparent;\n",
              "      border-bottom-color: var(--fill-color);\n",
              "    }\n",
              "  }\n",
              "</style>\n",
              "\n",
              "  <script>\n",
              "    async function quickchart(key) {\n",
              "      const quickchartButtonEl =\n",
              "        document.querySelector('#' + key + ' button');\n",
              "      quickchartButtonEl.disabled = true;  // To prevent multiple clicks.\n",
              "      quickchartButtonEl.classList.add('colab-df-spinner');\n",
              "      try {\n",
              "        const charts = await google.colab.kernel.invokeFunction(\n",
              "            'suggestCharts', [key], {});\n",
              "      } catch (error) {\n",
              "        console.error('Error during call to suggestCharts:', error);\n",
              "      }\n",
              "      quickchartButtonEl.classList.remove('colab-df-spinner');\n",
              "      quickchartButtonEl.classList.add('colab-df-quickchart-complete');\n",
              "    }\n",
              "    (() => {\n",
              "      let quickchartButtonEl =\n",
              "        document.querySelector('#df-2d953be7-b495-4a5e-aba1-58ea8bb44e60 button');\n",
              "      quickchartButtonEl.style.display =\n",
              "        google.colab.kernel.accessAllowed ? 'block' : 'none';\n",
              "    })();\n",
              "  </script>\n",
              "</div>\n",
              "    </div>\n",
              "  </div>\n"
            ]
          },
          "metadata": {},
          "execution_count": 15
        }
      ]
    },
    {
      "cell_type": "code",
      "source": [
        "customer_data.tail(10)"
      ],
      "metadata": {
        "execution": {
          "iopub.status.busy": "2023-09-05T13:01:50.331037Z",
          "iopub.execute_input": "2023-09-05T13:01:50.331345Z",
          "iopub.status.idle": "2023-09-05T13:01:50.367372Z",
          "shell.execute_reply.started": "2023-09-05T13:01:50.331320Z",
          "shell.execute_reply": "2023-09-05T13:01:50.366298Z"
        },
        "trusted": true,
        "colab": {
          "base_uri": "https://localhost:8080/",
          "height": 363
        },
        "id": "DAkeDtprYjPU",
        "outputId": "97b7e395-ddc8-4771-dee1-1445428ac7f8"
      },
      "execution_count": 16,
      "outputs": [
        {
          "output_type": "execute_result",
          "data": {
            "text/plain": [
              "       CustomerID             Name  Age  Gender     Location  \\\n",
              "99990       99991   Customer_99991   62    Male      Chicago   \n",
              "99991       99992   Customer_99992   55  Female        Miami   \n",
              "99992       99993   Customer_99993   44    Male     New York   \n",
              "99993       99994   Customer_99994   20  Female      Houston   \n",
              "99994       99995   Customer_99995   47  Female      Houston   \n",
              "99995       99996   Customer_99996   33    Male      Houston   \n",
              "99996       99997   Customer_99997   62  Female     New York   \n",
              "99997       99998   Customer_99998   64    Male      Chicago   \n",
              "99998       99999   Customer_99999   51  Female     New York   \n",
              "99999      100000  Customer_100000   27  Female  Los Angeles   \n",
              "\n",
              "       Subscription_Length_Months  Monthly_Bill  Total_Usage_GB  Churn  \n",
              "99990                           9         36.34             432      0  \n",
              "99991                          14         73.87             324      1  \n",
              "99992                          18         45.87             229      0  \n",
              "99993                          15         84.72             312      1  \n",
              "99994                           8         34.58             200      0  \n",
              "99995                          23         55.13             226      1  \n",
              "99996                          19         61.65             351      0  \n",
              "99997                          17         96.11             251      1  \n",
              "99998                          20         49.25             434      1  \n",
              "99999                          19         76.57             173      1  "
            ],
            "text/html": [
              "\n",
              "  <div id=\"df-73ded7d8-2fc7-4c36-948d-e401e9a71c62\" class=\"colab-df-container\">\n",
              "    <div>\n",
              "<style scoped>\n",
              "    .dataframe tbody tr th:only-of-type {\n",
              "        vertical-align: middle;\n",
              "    }\n",
              "\n",
              "    .dataframe tbody tr th {\n",
              "        vertical-align: top;\n",
              "    }\n",
              "\n",
              "    .dataframe thead th {\n",
              "        text-align: right;\n",
              "    }\n",
              "</style>\n",
              "<table border=\"1\" class=\"dataframe\">\n",
              "  <thead>\n",
              "    <tr style=\"text-align: right;\">\n",
              "      <th></th>\n",
              "      <th>CustomerID</th>\n",
              "      <th>Name</th>\n",
              "      <th>Age</th>\n",
              "      <th>Gender</th>\n",
              "      <th>Location</th>\n",
              "      <th>Subscription_Length_Months</th>\n",
              "      <th>Monthly_Bill</th>\n",
              "      <th>Total_Usage_GB</th>\n",
              "      <th>Churn</th>\n",
              "    </tr>\n",
              "  </thead>\n",
              "  <tbody>\n",
              "    <tr>\n",
              "      <th>99990</th>\n",
              "      <td>99991</td>\n",
              "      <td>Customer_99991</td>\n",
              "      <td>62</td>\n",
              "      <td>Male</td>\n",
              "      <td>Chicago</td>\n",
              "      <td>9</td>\n",
              "      <td>36.34</td>\n",
              "      <td>432</td>\n",
              "      <td>0</td>\n",
              "    </tr>\n",
              "    <tr>\n",
              "      <th>99991</th>\n",
              "      <td>99992</td>\n",
              "      <td>Customer_99992</td>\n",
              "      <td>55</td>\n",
              "      <td>Female</td>\n",
              "      <td>Miami</td>\n",
              "      <td>14</td>\n",
              "      <td>73.87</td>\n",
              "      <td>324</td>\n",
              "      <td>1</td>\n",
              "    </tr>\n",
              "    <tr>\n",
              "      <th>99992</th>\n",
              "      <td>99993</td>\n",
              "      <td>Customer_99993</td>\n",
              "      <td>44</td>\n",
              "      <td>Male</td>\n",
              "      <td>New York</td>\n",
              "      <td>18</td>\n",
              "      <td>45.87</td>\n",
              "      <td>229</td>\n",
              "      <td>0</td>\n",
              "    </tr>\n",
              "    <tr>\n",
              "      <th>99993</th>\n",
              "      <td>99994</td>\n",
              "      <td>Customer_99994</td>\n",
              "      <td>20</td>\n",
              "      <td>Female</td>\n",
              "      <td>Houston</td>\n",
              "      <td>15</td>\n",
              "      <td>84.72</td>\n",
              "      <td>312</td>\n",
              "      <td>1</td>\n",
              "    </tr>\n",
              "    <tr>\n",
              "      <th>99994</th>\n",
              "      <td>99995</td>\n",
              "      <td>Customer_99995</td>\n",
              "      <td>47</td>\n",
              "      <td>Female</td>\n",
              "      <td>Houston</td>\n",
              "      <td>8</td>\n",
              "      <td>34.58</td>\n",
              "      <td>200</td>\n",
              "      <td>0</td>\n",
              "    </tr>\n",
              "    <tr>\n",
              "      <th>99995</th>\n",
              "      <td>99996</td>\n",
              "      <td>Customer_99996</td>\n",
              "      <td>33</td>\n",
              "      <td>Male</td>\n",
              "      <td>Houston</td>\n",
              "      <td>23</td>\n",
              "      <td>55.13</td>\n",
              "      <td>226</td>\n",
              "      <td>1</td>\n",
              "    </tr>\n",
              "    <tr>\n",
              "      <th>99996</th>\n",
              "      <td>99997</td>\n",
              "      <td>Customer_99997</td>\n",
              "      <td>62</td>\n",
              "      <td>Female</td>\n",
              "      <td>New York</td>\n",
              "      <td>19</td>\n",
              "      <td>61.65</td>\n",
              "      <td>351</td>\n",
              "      <td>0</td>\n",
              "    </tr>\n",
              "    <tr>\n",
              "      <th>99997</th>\n",
              "      <td>99998</td>\n",
              "      <td>Customer_99998</td>\n",
              "      <td>64</td>\n",
              "      <td>Male</td>\n",
              "      <td>Chicago</td>\n",
              "      <td>17</td>\n",
              "      <td>96.11</td>\n",
              "      <td>251</td>\n",
              "      <td>1</td>\n",
              "    </tr>\n",
              "    <tr>\n",
              "      <th>99998</th>\n",
              "      <td>99999</td>\n",
              "      <td>Customer_99999</td>\n",
              "      <td>51</td>\n",
              "      <td>Female</td>\n",
              "      <td>New York</td>\n",
              "      <td>20</td>\n",
              "      <td>49.25</td>\n",
              "      <td>434</td>\n",
              "      <td>1</td>\n",
              "    </tr>\n",
              "    <tr>\n",
              "      <th>99999</th>\n",
              "      <td>100000</td>\n",
              "      <td>Customer_100000</td>\n",
              "      <td>27</td>\n",
              "      <td>Female</td>\n",
              "      <td>Los Angeles</td>\n",
              "      <td>19</td>\n",
              "      <td>76.57</td>\n",
              "      <td>173</td>\n",
              "      <td>1</td>\n",
              "    </tr>\n",
              "  </tbody>\n",
              "</table>\n",
              "</div>\n",
              "    <div class=\"colab-df-buttons\">\n",
              "\n",
              "  <div class=\"colab-df-container\">\n",
              "    <button class=\"colab-df-convert\" onclick=\"convertToInteractive('df-73ded7d8-2fc7-4c36-948d-e401e9a71c62')\"\n",
              "            title=\"Convert this dataframe to an interactive table.\"\n",
              "            style=\"display:none;\">\n",
              "\n",
              "  <svg xmlns=\"http://www.w3.org/2000/svg\" height=\"24px\" viewBox=\"0 -960 960 960\">\n",
              "    <path d=\"M120-120v-720h720v720H120Zm60-500h600v-160H180v160Zm220 220h160v-160H400v160Zm0 220h160v-160H400v160ZM180-400h160v-160H180v160Zm440 0h160v-160H620v160ZM180-180h160v-160H180v160Zm440 0h160v-160H620v160Z\"/>\n",
              "  </svg>\n",
              "    </button>\n",
              "\n",
              "  <style>\n",
              "    .colab-df-container {\n",
              "      display:flex;\n",
              "      gap: 12px;\n",
              "    }\n",
              "\n",
              "    .colab-df-convert {\n",
              "      background-color: #E8F0FE;\n",
              "      border: none;\n",
              "      border-radius: 50%;\n",
              "      cursor: pointer;\n",
              "      display: none;\n",
              "      fill: #1967D2;\n",
              "      height: 32px;\n",
              "      padding: 0 0 0 0;\n",
              "      width: 32px;\n",
              "    }\n",
              "\n",
              "    .colab-df-convert:hover {\n",
              "      background-color: #E2EBFA;\n",
              "      box-shadow: 0px 1px 2px rgba(60, 64, 67, 0.3), 0px 1px 3px 1px rgba(60, 64, 67, 0.15);\n",
              "      fill: #174EA6;\n",
              "    }\n",
              "\n",
              "    .colab-df-buttons div {\n",
              "      margin-bottom: 4px;\n",
              "    }\n",
              "\n",
              "    [theme=dark] .colab-df-convert {\n",
              "      background-color: #3B4455;\n",
              "      fill: #D2E3FC;\n",
              "    }\n",
              "\n",
              "    [theme=dark] .colab-df-convert:hover {\n",
              "      background-color: #434B5C;\n",
              "      box-shadow: 0px 1px 3px 1px rgba(0, 0, 0, 0.15);\n",
              "      filter: drop-shadow(0px 1px 2px rgba(0, 0, 0, 0.3));\n",
              "      fill: #FFFFFF;\n",
              "    }\n",
              "  </style>\n",
              "\n",
              "    <script>\n",
              "      const buttonEl =\n",
              "        document.querySelector('#df-73ded7d8-2fc7-4c36-948d-e401e9a71c62 button.colab-df-convert');\n",
              "      buttonEl.style.display =\n",
              "        google.colab.kernel.accessAllowed ? 'block' : 'none';\n",
              "\n",
              "      async function convertToInteractive(key) {\n",
              "        const element = document.querySelector('#df-73ded7d8-2fc7-4c36-948d-e401e9a71c62');\n",
              "        const dataTable =\n",
              "          await google.colab.kernel.invokeFunction('convertToInteractive',\n",
              "                                                    [key], {});\n",
              "        if (!dataTable) return;\n",
              "\n",
              "        const docLinkHtml = 'Like what you see? Visit the ' +\n",
              "          '<a target=\"_blank\" href=https://colab.research.google.com/notebooks/data_table.ipynb>data table notebook</a>'\n",
              "          + ' to learn more about interactive tables.';\n",
              "        element.innerHTML = '';\n",
              "        dataTable['output_type'] = 'display_data';\n",
              "        await google.colab.output.renderOutput(dataTable, element);\n",
              "        const docLink = document.createElement('div');\n",
              "        docLink.innerHTML = docLinkHtml;\n",
              "        element.appendChild(docLink);\n",
              "      }\n",
              "    </script>\n",
              "  </div>\n",
              "\n",
              "\n",
              "<div id=\"df-9c5a1e13-8399-4fcd-b7d8-866db1541235\">\n",
              "  <button class=\"colab-df-quickchart\" onclick=\"quickchart('df-9c5a1e13-8399-4fcd-b7d8-866db1541235')\"\n",
              "            title=\"Suggest charts.\"\n",
              "            style=\"display:none;\">\n",
              "\n",
              "<svg xmlns=\"http://www.w3.org/2000/svg\" height=\"24px\"viewBox=\"0 0 24 24\"\n",
              "     width=\"24px\">\n",
              "    <g>\n",
              "        <path d=\"M19 3H5c-1.1 0-2 .9-2 2v14c0 1.1.9 2 2 2h14c1.1 0 2-.9 2-2V5c0-1.1-.9-2-2-2zM9 17H7v-7h2v7zm4 0h-2V7h2v10zm4 0h-2v-4h2v4z\"/>\n",
              "    </g>\n",
              "</svg>\n",
              "  </button>\n",
              "\n",
              "<style>\n",
              "  .colab-df-quickchart {\n",
              "      --bg-color: #E8F0FE;\n",
              "      --fill-color: #1967D2;\n",
              "      --hover-bg-color: #E2EBFA;\n",
              "      --hover-fill-color: #174EA6;\n",
              "      --disabled-fill-color: #AAA;\n",
              "      --disabled-bg-color: #DDD;\n",
              "  }\n",
              "\n",
              "  [theme=dark] .colab-df-quickchart {\n",
              "      --bg-color: #3B4455;\n",
              "      --fill-color: #D2E3FC;\n",
              "      --hover-bg-color: #434B5C;\n",
              "      --hover-fill-color: #FFFFFF;\n",
              "      --disabled-bg-color: #3B4455;\n",
              "      --disabled-fill-color: #666;\n",
              "  }\n",
              "\n",
              "  .colab-df-quickchart {\n",
              "    background-color: var(--bg-color);\n",
              "    border: none;\n",
              "    border-radius: 50%;\n",
              "    cursor: pointer;\n",
              "    display: none;\n",
              "    fill: var(--fill-color);\n",
              "    height: 32px;\n",
              "    padding: 0;\n",
              "    width: 32px;\n",
              "  }\n",
              "\n",
              "  .colab-df-quickchart:hover {\n",
              "    background-color: var(--hover-bg-color);\n",
              "    box-shadow: 0 1px 2px rgba(60, 64, 67, 0.3), 0 1px 3px 1px rgba(60, 64, 67, 0.15);\n",
              "    fill: var(--button-hover-fill-color);\n",
              "  }\n",
              "\n",
              "  .colab-df-quickchart-complete:disabled,\n",
              "  .colab-df-quickchart-complete:disabled:hover {\n",
              "    background-color: var(--disabled-bg-color);\n",
              "    fill: var(--disabled-fill-color);\n",
              "    box-shadow: none;\n",
              "  }\n",
              "\n",
              "  .colab-df-spinner {\n",
              "    border: 2px solid var(--fill-color);\n",
              "    border-color: transparent;\n",
              "    border-bottom-color: var(--fill-color);\n",
              "    animation:\n",
              "      spin 1s steps(1) infinite;\n",
              "  }\n",
              "\n",
              "  @keyframes spin {\n",
              "    0% {\n",
              "      border-color: transparent;\n",
              "      border-bottom-color: var(--fill-color);\n",
              "      border-left-color: var(--fill-color);\n",
              "    }\n",
              "    20% {\n",
              "      border-color: transparent;\n",
              "      border-left-color: var(--fill-color);\n",
              "      border-top-color: var(--fill-color);\n",
              "    }\n",
              "    30% {\n",
              "      border-color: transparent;\n",
              "      border-left-color: var(--fill-color);\n",
              "      border-top-color: var(--fill-color);\n",
              "      border-right-color: var(--fill-color);\n",
              "    }\n",
              "    40% {\n",
              "      border-color: transparent;\n",
              "      border-right-color: var(--fill-color);\n",
              "      border-top-color: var(--fill-color);\n",
              "    }\n",
              "    60% {\n",
              "      border-color: transparent;\n",
              "      border-right-color: var(--fill-color);\n",
              "    }\n",
              "    80% {\n",
              "      border-color: transparent;\n",
              "      border-right-color: var(--fill-color);\n",
              "      border-bottom-color: var(--fill-color);\n",
              "    }\n",
              "    90% {\n",
              "      border-color: transparent;\n",
              "      border-bottom-color: var(--fill-color);\n",
              "    }\n",
              "  }\n",
              "</style>\n",
              "\n",
              "  <script>\n",
              "    async function quickchart(key) {\n",
              "      const quickchartButtonEl =\n",
              "        document.querySelector('#' + key + ' button');\n",
              "      quickchartButtonEl.disabled = true;  // To prevent multiple clicks.\n",
              "      quickchartButtonEl.classList.add('colab-df-spinner');\n",
              "      try {\n",
              "        const charts = await google.colab.kernel.invokeFunction(\n",
              "            'suggestCharts', [key], {});\n",
              "      } catch (error) {\n",
              "        console.error('Error during call to suggestCharts:', error);\n",
              "      }\n",
              "      quickchartButtonEl.classList.remove('colab-df-spinner');\n",
              "      quickchartButtonEl.classList.add('colab-df-quickchart-complete');\n",
              "    }\n",
              "    (() => {\n",
              "      let quickchartButtonEl =\n",
              "        document.querySelector('#df-9c5a1e13-8399-4fcd-b7d8-866db1541235 button');\n",
              "      quickchartButtonEl.style.display =\n",
              "        google.colab.kernel.accessAllowed ? 'block' : 'none';\n",
              "    })();\n",
              "  </script>\n",
              "</div>\n",
              "    </div>\n",
              "  </div>\n"
            ]
          },
          "metadata": {},
          "execution_count": 16
        }
      ]
    },
    {
      "cell_type": "code",
      "source": [
        "customer_data.sample(10)"
      ],
      "metadata": {
        "execution": {
          "iopub.status.busy": "2023-09-05T13:01:50.369106Z",
          "iopub.execute_input": "2023-09-05T13:01:50.369485Z",
          "iopub.status.idle": "2023-09-05T13:01:50.389233Z",
          "shell.execute_reply.started": "2023-09-05T13:01:50.369453Z",
          "shell.execute_reply": "2023-09-05T13:01:50.388272Z"
        },
        "trusted": true,
        "colab": {
          "base_uri": "https://localhost:8080/",
          "height": 363
        },
        "id": "HhNFQCe2YjPV",
        "outputId": "9e4fdd1e-fe72-404c-dcb4-03236949aa1a"
      },
      "execution_count": 17,
      "outputs": [
        {
          "output_type": "execute_result",
          "data": {
            "text/plain": [
              "       CustomerID            Name  Age  Gender     Location  \\\n",
              "15147       15148  Customer_15148   35  Female     New York   \n",
              "60320       60321  Customer_60321   55    Male  Los Angeles   \n",
              "63154       63155  Customer_63155   21  Female        Miami   \n",
              "97009       97010  Customer_97010   47  Female      Houston   \n",
              "18882       18883  Customer_18883   64    Male      Houston   \n",
              "77298       77299  Customer_77299   43  Female      Houston   \n",
              "46683       46684  Customer_46684   20  Female     New York   \n",
              "17964       17965  Customer_17965   43  Female     New York   \n",
              "59288       59289  Customer_59289   39  Female  Los Angeles   \n",
              "45056       45057  Customer_45057   48    Male     New York   \n",
              "\n",
              "       Subscription_Length_Months  Monthly_Bill  Total_Usage_GB  Churn  \n",
              "15147                          21         80.52             124      1  \n",
              "60320                           3         91.90              58      1  \n",
              "63154                          16         43.05              50      1  \n",
              "97009                          18         72.68             219      0  \n",
              "18882                          17         74.41             179      1  \n",
              "77298                           3         42.90             463      0  \n",
              "46683                          17         46.13              65      1  \n",
              "17964                          23         90.65             394      1  \n",
              "59288                          22         33.60             100      0  \n",
              "45056                          20         68.38             414      1  "
            ],
            "text/html": [
              "\n",
              "  <div id=\"df-c8963be0-e317-482f-ad6f-9ddd7ac59af8\" class=\"colab-df-container\">\n",
              "    <div>\n",
              "<style scoped>\n",
              "    .dataframe tbody tr th:only-of-type {\n",
              "        vertical-align: middle;\n",
              "    }\n",
              "\n",
              "    .dataframe tbody tr th {\n",
              "        vertical-align: top;\n",
              "    }\n",
              "\n",
              "    .dataframe thead th {\n",
              "        text-align: right;\n",
              "    }\n",
              "</style>\n",
              "<table border=\"1\" class=\"dataframe\">\n",
              "  <thead>\n",
              "    <tr style=\"text-align: right;\">\n",
              "      <th></th>\n",
              "      <th>CustomerID</th>\n",
              "      <th>Name</th>\n",
              "      <th>Age</th>\n",
              "      <th>Gender</th>\n",
              "      <th>Location</th>\n",
              "      <th>Subscription_Length_Months</th>\n",
              "      <th>Monthly_Bill</th>\n",
              "      <th>Total_Usage_GB</th>\n",
              "      <th>Churn</th>\n",
              "    </tr>\n",
              "  </thead>\n",
              "  <tbody>\n",
              "    <tr>\n",
              "      <th>15147</th>\n",
              "      <td>15148</td>\n",
              "      <td>Customer_15148</td>\n",
              "      <td>35</td>\n",
              "      <td>Female</td>\n",
              "      <td>New York</td>\n",
              "      <td>21</td>\n",
              "      <td>80.52</td>\n",
              "      <td>124</td>\n",
              "      <td>1</td>\n",
              "    </tr>\n",
              "    <tr>\n",
              "      <th>60320</th>\n",
              "      <td>60321</td>\n",
              "      <td>Customer_60321</td>\n",
              "      <td>55</td>\n",
              "      <td>Male</td>\n",
              "      <td>Los Angeles</td>\n",
              "      <td>3</td>\n",
              "      <td>91.90</td>\n",
              "      <td>58</td>\n",
              "      <td>1</td>\n",
              "    </tr>\n",
              "    <tr>\n",
              "      <th>63154</th>\n",
              "      <td>63155</td>\n",
              "      <td>Customer_63155</td>\n",
              "      <td>21</td>\n",
              "      <td>Female</td>\n",
              "      <td>Miami</td>\n",
              "      <td>16</td>\n",
              "      <td>43.05</td>\n",
              "      <td>50</td>\n",
              "      <td>1</td>\n",
              "    </tr>\n",
              "    <tr>\n",
              "      <th>97009</th>\n",
              "      <td>97010</td>\n",
              "      <td>Customer_97010</td>\n",
              "      <td>47</td>\n",
              "      <td>Female</td>\n",
              "      <td>Houston</td>\n",
              "      <td>18</td>\n",
              "      <td>72.68</td>\n",
              "      <td>219</td>\n",
              "      <td>0</td>\n",
              "    </tr>\n",
              "    <tr>\n",
              "      <th>18882</th>\n",
              "      <td>18883</td>\n",
              "      <td>Customer_18883</td>\n",
              "      <td>64</td>\n",
              "      <td>Male</td>\n",
              "      <td>Houston</td>\n",
              "      <td>17</td>\n",
              "      <td>74.41</td>\n",
              "      <td>179</td>\n",
              "      <td>1</td>\n",
              "    </tr>\n",
              "    <tr>\n",
              "      <th>77298</th>\n",
              "      <td>77299</td>\n",
              "      <td>Customer_77299</td>\n",
              "      <td>43</td>\n",
              "      <td>Female</td>\n",
              "      <td>Houston</td>\n",
              "      <td>3</td>\n",
              "      <td>42.90</td>\n",
              "      <td>463</td>\n",
              "      <td>0</td>\n",
              "    </tr>\n",
              "    <tr>\n",
              "      <th>46683</th>\n",
              "      <td>46684</td>\n",
              "      <td>Customer_46684</td>\n",
              "      <td>20</td>\n",
              "      <td>Female</td>\n",
              "      <td>New York</td>\n",
              "      <td>17</td>\n",
              "      <td>46.13</td>\n",
              "      <td>65</td>\n",
              "      <td>1</td>\n",
              "    </tr>\n",
              "    <tr>\n",
              "      <th>17964</th>\n",
              "      <td>17965</td>\n",
              "      <td>Customer_17965</td>\n",
              "      <td>43</td>\n",
              "      <td>Female</td>\n",
              "      <td>New York</td>\n",
              "      <td>23</td>\n",
              "      <td>90.65</td>\n",
              "      <td>394</td>\n",
              "      <td>1</td>\n",
              "    </tr>\n",
              "    <tr>\n",
              "      <th>59288</th>\n",
              "      <td>59289</td>\n",
              "      <td>Customer_59289</td>\n",
              "      <td>39</td>\n",
              "      <td>Female</td>\n",
              "      <td>Los Angeles</td>\n",
              "      <td>22</td>\n",
              "      <td>33.60</td>\n",
              "      <td>100</td>\n",
              "      <td>0</td>\n",
              "    </tr>\n",
              "    <tr>\n",
              "      <th>45056</th>\n",
              "      <td>45057</td>\n",
              "      <td>Customer_45057</td>\n",
              "      <td>48</td>\n",
              "      <td>Male</td>\n",
              "      <td>New York</td>\n",
              "      <td>20</td>\n",
              "      <td>68.38</td>\n",
              "      <td>414</td>\n",
              "      <td>1</td>\n",
              "    </tr>\n",
              "  </tbody>\n",
              "</table>\n",
              "</div>\n",
              "    <div class=\"colab-df-buttons\">\n",
              "\n",
              "  <div class=\"colab-df-container\">\n",
              "    <button class=\"colab-df-convert\" onclick=\"convertToInteractive('df-c8963be0-e317-482f-ad6f-9ddd7ac59af8')\"\n",
              "            title=\"Convert this dataframe to an interactive table.\"\n",
              "            style=\"display:none;\">\n",
              "\n",
              "  <svg xmlns=\"http://www.w3.org/2000/svg\" height=\"24px\" viewBox=\"0 -960 960 960\">\n",
              "    <path d=\"M120-120v-720h720v720H120Zm60-500h600v-160H180v160Zm220 220h160v-160H400v160Zm0 220h160v-160H400v160ZM180-400h160v-160H180v160Zm440 0h160v-160H620v160ZM180-180h160v-160H180v160Zm440 0h160v-160H620v160Z\"/>\n",
              "  </svg>\n",
              "    </button>\n",
              "\n",
              "  <style>\n",
              "    .colab-df-container {\n",
              "      display:flex;\n",
              "      gap: 12px;\n",
              "    }\n",
              "\n",
              "    .colab-df-convert {\n",
              "      background-color: #E8F0FE;\n",
              "      border: none;\n",
              "      border-radius: 50%;\n",
              "      cursor: pointer;\n",
              "      display: none;\n",
              "      fill: #1967D2;\n",
              "      height: 32px;\n",
              "      padding: 0 0 0 0;\n",
              "      width: 32px;\n",
              "    }\n",
              "\n",
              "    .colab-df-convert:hover {\n",
              "      background-color: #E2EBFA;\n",
              "      box-shadow: 0px 1px 2px rgba(60, 64, 67, 0.3), 0px 1px 3px 1px rgba(60, 64, 67, 0.15);\n",
              "      fill: #174EA6;\n",
              "    }\n",
              "\n",
              "    .colab-df-buttons div {\n",
              "      margin-bottom: 4px;\n",
              "    }\n",
              "\n",
              "    [theme=dark] .colab-df-convert {\n",
              "      background-color: #3B4455;\n",
              "      fill: #D2E3FC;\n",
              "    }\n",
              "\n",
              "    [theme=dark] .colab-df-convert:hover {\n",
              "      background-color: #434B5C;\n",
              "      box-shadow: 0px 1px 3px 1px rgba(0, 0, 0, 0.15);\n",
              "      filter: drop-shadow(0px 1px 2px rgba(0, 0, 0, 0.3));\n",
              "      fill: #FFFFFF;\n",
              "    }\n",
              "  </style>\n",
              "\n",
              "    <script>\n",
              "      const buttonEl =\n",
              "        document.querySelector('#df-c8963be0-e317-482f-ad6f-9ddd7ac59af8 button.colab-df-convert');\n",
              "      buttonEl.style.display =\n",
              "        google.colab.kernel.accessAllowed ? 'block' : 'none';\n",
              "\n",
              "      async function convertToInteractive(key) {\n",
              "        const element = document.querySelector('#df-c8963be0-e317-482f-ad6f-9ddd7ac59af8');\n",
              "        const dataTable =\n",
              "          await google.colab.kernel.invokeFunction('convertToInteractive',\n",
              "                                                    [key], {});\n",
              "        if (!dataTable) return;\n",
              "\n",
              "        const docLinkHtml = 'Like what you see? Visit the ' +\n",
              "          '<a target=\"_blank\" href=https://colab.research.google.com/notebooks/data_table.ipynb>data table notebook</a>'\n",
              "          + ' to learn more about interactive tables.';\n",
              "        element.innerHTML = '';\n",
              "        dataTable['output_type'] = 'display_data';\n",
              "        await google.colab.output.renderOutput(dataTable, element);\n",
              "        const docLink = document.createElement('div');\n",
              "        docLink.innerHTML = docLinkHtml;\n",
              "        element.appendChild(docLink);\n",
              "      }\n",
              "    </script>\n",
              "  </div>\n",
              "\n",
              "\n",
              "<div id=\"df-1e1919bf-be49-455f-b49b-e7f035f08a12\">\n",
              "  <button class=\"colab-df-quickchart\" onclick=\"quickchart('df-1e1919bf-be49-455f-b49b-e7f035f08a12')\"\n",
              "            title=\"Suggest charts.\"\n",
              "            style=\"display:none;\">\n",
              "\n",
              "<svg xmlns=\"http://www.w3.org/2000/svg\" height=\"24px\"viewBox=\"0 0 24 24\"\n",
              "     width=\"24px\">\n",
              "    <g>\n",
              "        <path d=\"M19 3H5c-1.1 0-2 .9-2 2v14c0 1.1.9 2 2 2h14c1.1 0 2-.9 2-2V5c0-1.1-.9-2-2-2zM9 17H7v-7h2v7zm4 0h-2V7h2v10zm4 0h-2v-4h2v4z\"/>\n",
              "    </g>\n",
              "</svg>\n",
              "  </button>\n",
              "\n",
              "<style>\n",
              "  .colab-df-quickchart {\n",
              "      --bg-color: #E8F0FE;\n",
              "      --fill-color: #1967D2;\n",
              "      --hover-bg-color: #E2EBFA;\n",
              "      --hover-fill-color: #174EA6;\n",
              "      --disabled-fill-color: #AAA;\n",
              "      --disabled-bg-color: #DDD;\n",
              "  }\n",
              "\n",
              "  [theme=dark] .colab-df-quickchart {\n",
              "      --bg-color: #3B4455;\n",
              "      --fill-color: #D2E3FC;\n",
              "      --hover-bg-color: #434B5C;\n",
              "      --hover-fill-color: #FFFFFF;\n",
              "      --disabled-bg-color: #3B4455;\n",
              "      --disabled-fill-color: #666;\n",
              "  }\n",
              "\n",
              "  .colab-df-quickchart {\n",
              "    background-color: var(--bg-color);\n",
              "    border: none;\n",
              "    border-radius: 50%;\n",
              "    cursor: pointer;\n",
              "    display: none;\n",
              "    fill: var(--fill-color);\n",
              "    height: 32px;\n",
              "    padding: 0;\n",
              "    width: 32px;\n",
              "  }\n",
              "\n",
              "  .colab-df-quickchart:hover {\n",
              "    background-color: var(--hover-bg-color);\n",
              "    box-shadow: 0 1px 2px rgba(60, 64, 67, 0.3), 0 1px 3px 1px rgba(60, 64, 67, 0.15);\n",
              "    fill: var(--button-hover-fill-color);\n",
              "  }\n",
              "\n",
              "  .colab-df-quickchart-complete:disabled,\n",
              "  .colab-df-quickchart-complete:disabled:hover {\n",
              "    background-color: var(--disabled-bg-color);\n",
              "    fill: var(--disabled-fill-color);\n",
              "    box-shadow: none;\n",
              "  }\n",
              "\n",
              "  .colab-df-spinner {\n",
              "    border: 2px solid var(--fill-color);\n",
              "    border-color: transparent;\n",
              "    border-bottom-color: var(--fill-color);\n",
              "    animation:\n",
              "      spin 1s steps(1) infinite;\n",
              "  }\n",
              "\n",
              "  @keyframes spin {\n",
              "    0% {\n",
              "      border-color: transparent;\n",
              "      border-bottom-color: var(--fill-color);\n",
              "      border-left-color: var(--fill-color);\n",
              "    }\n",
              "    20% {\n",
              "      border-color: transparent;\n",
              "      border-left-color: var(--fill-color);\n",
              "      border-top-color: var(--fill-color);\n",
              "    }\n",
              "    30% {\n",
              "      border-color: transparent;\n",
              "      border-left-color: var(--fill-color);\n",
              "      border-top-color: var(--fill-color);\n",
              "      border-right-color: var(--fill-color);\n",
              "    }\n",
              "    40% {\n",
              "      border-color: transparent;\n",
              "      border-right-color: var(--fill-color);\n",
              "      border-top-color: var(--fill-color);\n",
              "    }\n",
              "    60% {\n",
              "      border-color: transparent;\n",
              "      border-right-color: var(--fill-color);\n",
              "    }\n",
              "    80% {\n",
              "      border-color: transparent;\n",
              "      border-right-color: var(--fill-color);\n",
              "      border-bottom-color: var(--fill-color);\n",
              "    }\n",
              "    90% {\n",
              "      border-color: transparent;\n",
              "      border-bottom-color: var(--fill-color);\n",
              "    }\n",
              "  }\n",
              "</style>\n",
              "\n",
              "  <script>\n",
              "    async function quickchart(key) {\n",
              "      const quickchartButtonEl =\n",
              "        document.querySelector('#' + key + ' button');\n",
              "      quickchartButtonEl.disabled = true;  // To prevent multiple clicks.\n",
              "      quickchartButtonEl.classList.add('colab-df-spinner');\n",
              "      try {\n",
              "        const charts = await google.colab.kernel.invokeFunction(\n",
              "            'suggestCharts', [key], {});\n",
              "      } catch (error) {\n",
              "        console.error('Error during call to suggestCharts:', error);\n",
              "      }\n",
              "      quickchartButtonEl.classList.remove('colab-df-spinner');\n",
              "      quickchartButtonEl.classList.add('colab-df-quickchart-complete');\n",
              "    }\n",
              "    (() => {\n",
              "      let quickchartButtonEl =\n",
              "        document.querySelector('#df-1e1919bf-be49-455f-b49b-e7f035f08a12 button');\n",
              "      quickchartButtonEl.style.display =\n",
              "        google.colab.kernel.accessAllowed ? 'block' : 'none';\n",
              "    })();\n",
              "  </script>\n",
              "</div>\n",
              "    </div>\n",
              "  </div>\n"
            ]
          },
          "metadata": {},
          "execution_count": 17
        }
      ]
    },
    {
      "cell_type": "code",
      "source": [
        "customer_data.isnull().sum()"
      ],
      "metadata": {
        "execution": {
          "iopub.status.busy": "2023-09-05T13:01:50.394116Z",
          "iopub.execute_input": "2023-09-05T13:01:50.394542Z",
          "iopub.status.idle": "2023-09-05T13:01:50.432723Z",
          "shell.execute_reply.started": "2023-09-05T13:01:50.394518Z",
          "shell.execute_reply": "2023-09-05T13:01:50.431879Z"
        },
        "trusted": true,
        "colab": {
          "base_uri": "https://localhost:8080/"
        },
        "id": "HsQT-3-zYjPV",
        "outputId": "53eafcac-ad98-444f-f96c-5e8ad75a8c92"
      },
      "execution_count": 18,
      "outputs": [
        {
          "output_type": "execute_result",
          "data": {
            "text/plain": [
              "CustomerID                    0\n",
              "Name                          0\n",
              "Age                           0\n",
              "Gender                        0\n",
              "Location                      0\n",
              "Subscription_Length_Months    0\n",
              "Monthly_Bill                  0\n",
              "Total_Usage_GB                0\n",
              "Churn                         0\n",
              "dtype: int64"
            ]
          },
          "metadata": {},
          "execution_count": 18
        }
      ]
    },
    {
      "cell_type": "markdown",
      "source": [
        "There are no Null values.."
      ],
      "metadata": {
        "id": "O-TkbUPtYjPV"
      }
    },
    {
      "cell_type": "code",
      "source": [
        "customer_data[customer_data.duplicated() == True]"
      ],
      "metadata": {
        "execution": {
          "iopub.status.busy": "2023-09-05T13:01:50.433892Z",
          "iopub.execute_input": "2023-09-05T13:01:50.434301Z",
          "iopub.status.idle": "2023-09-05T13:01:50.495988Z",
          "shell.execute_reply.started": "2023-09-05T13:01:50.434269Z",
          "shell.execute_reply": "2023-09-05T13:01:50.495058Z"
        },
        "trusted": true,
        "colab": {
          "base_uri": "https://localhost:8080/",
          "height": 53
        },
        "id": "zOqJz-8IYjPV",
        "outputId": "f9f0f520-ceab-476d-b80b-50e261de8aab"
      },
      "execution_count": 19,
      "outputs": [
        {
          "output_type": "execute_result",
          "data": {
            "text/plain": [
              "Empty DataFrame\n",
              "Columns: [CustomerID, Name, Age, Gender, Location, Subscription_Length_Months, Monthly_Bill, Total_Usage_GB, Churn]\n",
              "Index: []"
            ],
            "text/html": [
              "\n",
              "  <div id=\"df-e46dc015-e01b-4c28-8b4a-ca725cf5fc45\" class=\"colab-df-container\">\n",
              "    <div>\n",
              "<style scoped>\n",
              "    .dataframe tbody tr th:only-of-type {\n",
              "        vertical-align: middle;\n",
              "    }\n",
              "\n",
              "    .dataframe tbody tr th {\n",
              "        vertical-align: top;\n",
              "    }\n",
              "\n",
              "    .dataframe thead th {\n",
              "        text-align: right;\n",
              "    }\n",
              "</style>\n",
              "<table border=\"1\" class=\"dataframe\">\n",
              "  <thead>\n",
              "    <tr style=\"text-align: right;\">\n",
              "      <th></th>\n",
              "      <th>CustomerID</th>\n",
              "      <th>Name</th>\n",
              "      <th>Age</th>\n",
              "      <th>Gender</th>\n",
              "      <th>Location</th>\n",
              "      <th>Subscription_Length_Months</th>\n",
              "      <th>Monthly_Bill</th>\n",
              "      <th>Total_Usage_GB</th>\n",
              "      <th>Churn</th>\n",
              "    </tr>\n",
              "  </thead>\n",
              "  <tbody>\n",
              "  </tbody>\n",
              "</table>\n",
              "</div>\n",
              "    <div class=\"colab-df-buttons\">\n",
              "\n",
              "  <div class=\"colab-df-container\">\n",
              "    <button class=\"colab-df-convert\" onclick=\"convertToInteractive('df-e46dc015-e01b-4c28-8b4a-ca725cf5fc45')\"\n",
              "            title=\"Convert this dataframe to an interactive table.\"\n",
              "            style=\"display:none;\">\n",
              "\n",
              "  <svg xmlns=\"http://www.w3.org/2000/svg\" height=\"24px\" viewBox=\"0 -960 960 960\">\n",
              "    <path d=\"M120-120v-720h720v720H120Zm60-500h600v-160H180v160Zm220 220h160v-160H400v160Zm0 220h160v-160H400v160ZM180-400h160v-160H180v160Zm440 0h160v-160H620v160ZM180-180h160v-160H180v160Zm440 0h160v-160H620v160Z\"/>\n",
              "  </svg>\n",
              "    </button>\n",
              "\n",
              "  <style>\n",
              "    .colab-df-container {\n",
              "      display:flex;\n",
              "      gap: 12px;\n",
              "    }\n",
              "\n",
              "    .colab-df-convert {\n",
              "      background-color: #E8F0FE;\n",
              "      border: none;\n",
              "      border-radius: 50%;\n",
              "      cursor: pointer;\n",
              "      display: none;\n",
              "      fill: #1967D2;\n",
              "      height: 32px;\n",
              "      padding: 0 0 0 0;\n",
              "      width: 32px;\n",
              "    }\n",
              "\n",
              "    .colab-df-convert:hover {\n",
              "      background-color: #E2EBFA;\n",
              "      box-shadow: 0px 1px 2px rgba(60, 64, 67, 0.3), 0px 1px 3px 1px rgba(60, 64, 67, 0.15);\n",
              "      fill: #174EA6;\n",
              "    }\n",
              "\n",
              "    .colab-df-buttons div {\n",
              "      margin-bottom: 4px;\n",
              "    }\n",
              "\n",
              "    [theme=dark] .colab-df-convert {\n",
              "      background-color: #3B4455;\n",
              "      fill: #D2E3FC;\n",
              "    }\n",
              "\n",
              "    [theme=dark] .colab-df-convert:hover {\n",
              "      background-color: #434B5C;\n",
              "      box-shadow: 0px 1px 3px 1px rgba(0, 0, 0, 0.15);\n",
              "      filter: drop-shadow(0px 1px 2px rgba(0, 0, 0, 0.3));\n",
              "      fill: #FFFFFF;\n",
              "    }\n",
              "  </style>\n",
              "\n",
              "    <script>\n",
              "      const buttonEl =\n",
              "        document.querySelector('#df-e46dc015-e01b-4c28-8b4a-ca725cf5fc45 button.colab-df-convert');\n",
              "      buttonEl.style.display =\n",
              "        google.colab.kernel.accessAllowed ? 'block' : 'none';\n",
              "\n",
              "      async function convertToInteractive(key) {\n",
              "        const element = document.querySelector('#df-e46dc015-e01b-4c28-8b4a-ca725cf5fc45');\n",
              "        const dataTable =\n",
              "          await google.colab.kernel.invokeFunction('convertToInteractive',\n",
              "                                                    [key], {});\n",
              "        if (!dataTable) return;\n",
              "\n",
              "        const docLinkHtml = 'Like what you see? Visit the ' +\n",
              "          '<a target=\"_blank\" href=https://colab.research.google.com/notebooks/data_table.ipynb>data table notebook</a>'\n",
              "          + ' to learn more about interactive tables.';\n",
              "        element.innerHTML = '';\n",
              "        dataTable['output_type'] = 'display_data';\n",
              "        await google.colab.output.renderOutput(dataTable, element);\n",
              "        const docLink = document.createElement('div');\n",
              "        docLink.innerHTML = docLinkHtml;\n",
              "        element.appendChild(docLink);\n",
              "      }\n",
              "    </script>\n",
              "  </div>\n",
              "\n",
              "    </div>\n",
              "  </div>\n"
            ]
          },
          "metadata": {},
          "execution_count": 19
        }
      ]
    },
    {
      "cell_type": "markdown",
      "source": [
        "There are no duplicate values."
      ],
      "metadata": {
        "id": "hNebrBZkYjPW"
      }
    },
    {
      "cell_type": "markdown",
      "source": [
        "# EDA"
      ],
      "metadata": {
        "id": "sVfEnxKoYjPW"
      }
    },
    {
      "cell_type": "markdown",
      "source": [
        "Let's calculate and examine the summary statistics for numerical features."
      ],
      "metadata": {
        "id": "ZNbwLGSpYjPW"
      }
    },
    {
      "cell_type": "code",
      "source": [
        "customer_data.describe(include='all')"
      ],
      "metadata": {
        "execution": {
          "iopub.status.busy": "2023-09-05T13:02:12.384528Z",
          "iopub.execute_input": "2023-09-05T13:02:12.385528Z",
          "iopub.status.idle": "2023-09-05T13:02:12.546526Z",
          "shell.execute_reply.started": "2023-09-05T13:02:12.385491Z",
          "shell.execute_reply": "2023-09-05T13:02:12.545436Z"
        },
        "trusted": true,
        "colab": {
          "base_uri": "https://localhost:8080/",
          "height": 394
        },
        "id": "Jo7lT0S5YjPW",
        "outputId": "64581d72-d956-4ac6-c491-52544eca17c9"
      },
      "execution_count": 28,
      "outputs": [
        {
          "output_type": "execute_result",
          "data": {
            "text/plain": [
              "           CustomerID        Name            Age  Gender Location  \\\n",
              "count   100000.000000      100000  100000.000000  100000   100000   \n",
              "unique            NaN      100000            NaN       2        5   \n",
              "top               NaN  Customer_1            NaN  Female  Houston   \n",
              "freq              NaN           1            NaN   50216    20157   \n",
              "mean     50000.500000         NaN      44.027020     NaN      NaN   \n",
              "std      28867.657797         NaN      15.280283     NaN      NaN   \n",
              "min          1.000000         NaN      18.000000     NaN      NaN   \n",
              "25%      25000.750000         NaN      31.000000     NaN      NaN   \n",
              "50%      50000.500000         NaN      44.000000     NaN      NaN   \n",
              "75%      75000.250000         NaN      57.000000     NaN      NaN   \n",
              "max     100000.000000         NaN      70.000000     NaN      NaN   \n",
              "\n",
              "        Subscription_Length_Months   Monthly_Bill  Total_Usage_GB  \\\n",
              "count                100000.000000  100000.000000   100000.000000   \n",
              "unique                         NaN            NaN             NaN   \n",
              "top                            NaN            NaN             NaN   \n",
              "freq                           NaN            NaN             NaN   \n",
              "mean                     12.490100      65.053197      274.393650   \n",
              "std                       6.926461      20.230696      130.463063   \n",
              "min                       1.000000      30.000000       50.000000   \n",
              "25%                       6.000000      47.540000      161.000000   \n",
              "50%                      12.000000      65.010000      274.000000   \n",
              "75%                      19.000000      82.640000      387.000000   \n",
              "max                      24.000000     100.000000      500.000000   \n",
              "\n",
              "                Churn  \n",
              "count   100000.000000  \n",
              "unique            NaN  \n",
              "top               NaN  \n",
              "freq              NaN  \n",
              "mean         0.497790  \n",
              "std          0.499998  \n",
              "min          0.000000  \n",
              "25%          0.000000  \n",
              "50%          0.000000  \n",
              "75%          1.000000  \n",
              "max          1.000000  "
            ],
            "text/html": [
              "\n",
              "  <div id=\"df-806fab62-80fe-4bf1-a4d3-76b0285da4d4\" class=\"colab-df-container\">\n",
              "    <div>\n",
              "<style scoped>\n",
              "    .dataframe tbody tr th:only-of-type {\n",
              "        vertical-align: middle;\n",
              "    }\n",
              "\n",
              "    .dataframe tbody tr th {\n",
              "        vertical-align: top;\n",
              "    }\n",
              "\n",
              "    .dataframe thead th {\n",
              "        text-align: right;\n",
              "    }\n",
              "</style>\n",
              "<table border=\"1\" class=\"dataframe\">\n",
              "  <thead>\n",
              "    <tr style=\"text-align: right;\">\n",
              "      <th></th>\n",
              "      <th>CustomerID</th>\n",
              "      <th>Name</th>\n",
              "      <th>Age</th>\n",
              "      <th>Gender</th>\n",
              "      <th>Location</th>\n",
              "      <th>Subscription_Length_Months</th>\n",
              "      <th>Monthly_Bill</th>\n",
              "      <th>Total_Usage_GB</th>\n",
              "      <th>Churn</th>\n",
              "    </tr>\n",
              "  </thead>\n",
              "  <tbody>\n",
              "    <tr>\n",
              "      <th>count</th>\n",
              "      <td>100000.000000</td>\n",
              "      <td>100000</td>\n",
              "      <td>100000.000000</td>\n",
              "      <td>100000</td>\n",
              "      <td>100000</td>\n",
              "      <td>100000.000000</td>\n",
              "      <td>100000.000000</td>\n",
              "      <td>100000.000000</td>\n",
              "      <td>100000.000000</td>\n",
              "    </tr>\n",
              "    <tr>\n",
              "      <th>unique</th>\n",
              "      <td>NaN</td>\n",
              "      <td>100000</td>\n",
              "      <td>NaN</td>\n",
              "      <td>2</td>\n",
              "      <td>5</td>\n",
              "      <td>NaN</td>\n",
              "      <td>NaN</td>\n",
              "      <td>NaN</td>\n",
              "      <td>NaN</td>\n",
              "    </tr>\n",
              "    <tr>\n",
              "      <th>top</th>\n",
              "      <td>NaN</td>\n",
              "      <td>Customer_1</td>\n",
              "      <td>NaN</td>\n",
              "      <td>Female</td>\n",
              "      <td>Houston</td>\n",
              "      <td>NaN</td>\n",
              "      <td>NaN</td>\n",
              "      <td>NaN</td>\n",
              "      <td>NaN</td>\n",
              "    </tr>\n",
              "    <tr>\n",
              "      <th>freq</th>\n",
              "      <td>NaN</td>\n",
              "      <td>1</td>\n",
              "      <td>NaN</td>\n",
              "      <td>50216</td>\n",
              "      <td>20157</td>\n",
              "      <td>NaN</td>\n",
              "      <td>NaN</td>\n",
              "      <td>NaN</td>\n",
              "      <td>NaN</td>\n",
              "    </tr>\n",
              "    <tr>\n",
              "      <th>mean</th>\n",
              "      <td>50000.500000</td>\n",
              "      <td>NaN</td>\n",
              "      <td>44.027020</td>\n",
              "      <td>NaN</td>\n",
              "      <td>NaN</td>\n",
              "      <td>12.490100</td>\n",
              "      <td>65.053197</td>\n",
              "      <td>274.393650</td>\n",
              "      <td>0.497790</td>\n",
              "    </tr>\n",
              "    <tr>\n",
              "      <th>std</th>\n",
              "      <td>28867.657797</td>\n",
              "      <td>NaN</td>\n",
              "      <td>15.280283</td>\n",
              "      <td>NaN</td>\n",
              "      <td>NaN</td>\n",
              "      <td>6.926461</td>\n",
              "      <td>20.230696</td>\n",
              "      <td>130.463063</td>\n",
              "      <td>0.499998</td>\n",
              "    </tr>\n",
              "    <tr>\n",
              "      <th>min</th>\n",
              "      <td>1.000000</td>\n",
              "      <td>NaN</td>\n",
              "      <td>18.000000</td>\n",
              "      <td>NaN</td>\n",
              "      <td>NaN</td>\n",
              "      <td>1.000000</td>\n",
              "      <td>30.000000</td>\n",
              "      <td>50.000000</td>\n",
              "      <td>0.000000</td>\n",
              "    </tr>\n",
              "    <tr>\n",
              "      <th>25%</th>\n",
              "      <td>25000.750000</td>\n",
              "      <td>NaN</td>\n",
              "      <td>31.000000</td>\n",
              "      <td>NaN</td>\n",
              "      <td>NaN</td>\n",
              "      <td>6.000000</td>\n",
              "      <td>47.540000</td>\n",
              "      <td>161.000000</td>\n",
              "      <td>0.000000</td>\n",
              "    </tr>\n",
              "    <tr>\n",
              "      <th>50%</th>\n",
              "      <td>50000.500000</td>\n",
              "      <td>NaN</td>\n",
              "      <td>44.000000</td>\n",
              "      <td>NaN</td>\n",
              "      <td>NaN</td>\n",
              "      <td>12.000000</td>\n",
              "      <td>65.010000</td>\n",
              "      <td>274.000000</td>\n",
              "      <td>0.000000</td>\n",
              "    </tr>\n",
              "    <tr>\n",
              "      <th>75%</th>\n",
              "      <td>75000.250000</td>\n",
              "      <td>NaN</td>\n",
              "      <td>57.000000</td>\n",
              "      <td>NaN</td>\n",
              "      <td>NaN</td>\n",
              "      <td>19.000000</td>\n",
              "      <td>82.640000</td>\n",
              "      <td>387.000000</td>\n",
              "      <td>1.000000</td>\n",
              "    </tr>\n",
              "    <tr>\n",
              "      <th>max</th>\n",
              "      <td>100000.000000</td>\n",
              "      <td>NaN</td>\n",
              "      <td>70.000000</td>\n",
              "      <td>NaN</td>\n",
              "      <td>NaN</td>\n",
              "      <td>24.000000</td>\n",
              "      <td>100.000000</td>\n",
              "      <td>500.000000</td>\n",
              "      <td>1.000000</td>\n",
              "    </tr>\n",
              "  </tbody>\n",
              "</table>\n",
              "</div>\n",
              "    <div class=\"colab-df-buttons\">\n",
              "\n",
              "  <div class=\"colab-df-container\">\n",
              "    <button class=\"colab-df-convert\" onclick=\"convertToInteractive('df-806fab62-80fe-4bf1-a4d3-76b0285da4d4')\"\n",
              "            title=\"Convert this dataframe to an interactive table.\"\n",
              "            style=\"display:none;\">\n",
              "\n",
              "  <svg xmlns=\"http://www.w3.org/2000/svg\" height=\"24px\" viewBox=\"0 -960 960 960\">\n",
              "    <path d=\"M120-120v-720h720v720H120Zm60-500h600v-160H180v160Zm220 220h160v-160H400v160Zm0 220h160v-160H400v160ZM180-400h160v-160H180v160Zm440 0h160v-160H620v160ZM180-180h160v-160H180v160Zm440 0h160v-160H620v160Z\"/>\n",
              "  </svg>\n",
              "    </button>\n",
              "\n",
              "  <style>\n",
              "    .colab-df-container {\n",
              "      display:flex;\n",
              "      gap: 12px;\n",
              "    }\n",
              "\n",
              "    .colab-df-convert {\n",
              "      background-color: #E8F0FE;\n",
              "      border: none;\n",
              "      border-radius: 50%;\n",
              "      cursor: pointer;\n",
              "      display: none;\n",
              "      fill: #1967D2;\n",
              "      height: 32px;\n",
              "      padding: 0 0 0 0;\n",
              "      width: 32px;\n",
              "    }\n",
              "\n",
              "    .colab-df-convert:hover {\n",
              "      background-color: #E2EBFA;\n",
              "      box-shadow: 0px 1px 2px rgba(60, 64, 67, 0.3), 0px 1px 3px 1px rgba(60, 64, 67, 0.15);\n",
              "      fill: #174EA6;\n",
              "    }\n",
              "\n",
              "    .colab-df-buttons div {\n",
              "      margin-bottom: 4px;\n",
              "    }\n",
              "\n",
              "    [theme=dark] .colab-df-convert {\n",
              "      background-color: #3B4455;\n",
              "      fill: #D2E3FC;\n",
              "    }\n",
              "\n",
              "    [theme=dark] .colab-df-convert:hover {\n",
              "      background-color: #434B5C;\n",
              "      box-shadow: 0px 1px 3px 1px rgba(0, 0, 0, 0.15);\n",
              "      filter: drop-shadow(0px 1px 2px rgba(0, 0, 0, 0.3));\n",
              "      fill: #FFFFFF;\n",
              "    }\n",
              "  </style>\n",
              "\n",
              "    <script>\n",
              "      const buttonEl =\n",
              "        document.querySelector('#df-806fab62-80fe-4bf1-a4d3-76b0285da4d4 button.colab-df-convert');\n",
              "      buttonEl.style.display =\n",
              "        google.colab.kernel.accessAllowed ? 'block' : 'none';\n",
              "\n",
              "      async function convertToInteractive(key) {\n",
              "        const element = document.querySelector('#df-806fab62-80fe-4bf1-a4d3-76b0285da4d4');\n",
              "        const dataTable =\n",
              "          await google.colab.kernel.invokeFunction('convertToInteractive',\n",
              "                                                    [key], {});\n",
              "        if (!dataTable) return;\n",
              "\n",
              "        const docLinkHtml = 'Like what you see? Visit the ' +\n",
              "          '<a target=\"_blank\" href=https://colab.research.google.com/notebooks/data_table.ipynb>data table notebook</a>'\n",
              "          + ' to learn more about interactive tables.';\n",
              "        element.innerHTML = '';\n",
              "        dataTable['output_type'] = 'display_data';\n",
              "        await google.colab.output.renderOutput(dataTable, element);\n",
              "        const docLink = document.createElement('div');\n",
              "        docLink.innerHTML = docLinkHtml;\n",
              "        element.appendChild(docLink);\n",
              "      }\n",
              "    </script>\n",
              "  </div>\n",
              "\n",
              "\n",
              "<div id=\"df-755ff8a2-44e0-40f4-8fc8-44cffafb174a\">\n",
              "  <button class=\"colab-df-quickchart\" onclick=\"quickchart('df-755ff8a2-44e0-40f4-8fc8-44cffafb174a')\"\n",
              "            title=\"Suggest charts.\"\n",
              "            style=\"display:none;\">\n",
              "\n",
              "<svg xmlns=\"http://www.w3.org/2000/svg\" height=\"24px\"viewBox=\"0 0 24 24\"\n",
              "     width=\"24px\">\n",
              "    <g>\n",
              "        <path d=\"M19 3H5c-1.1 0-2 .9-2 2v14c0 1.1.9 2 2 2h14c1.1 0 2-.9 2-2V5c0-1.1-.9-2-2-2zM9 17H7v-7h2v7zm4 0h-2V7h2v10zm4 0h-2v-4h2v4z\"/>\n",
              "    </g>\n",
              "</svg>\n",
              "  </button>\n",
              "\n",
              "<style>\n",
              "  .colab-df-quickchart {\n",
              "      --bg-color: #E8F0FE;\n",
              "      --fill-color: #1967D2;\n",
              "      --hover-bg-color: #E2EBFA;\n",
              "      --hover-fill-color: #174EA6;\n",
              "      --disabled-fill-color: #AAA;\n",
              "      --disabled-bg-color: #DDD;\n",
              "  }\n",
              "\n",
              "  [theme=dark] .colab-df-quickchart {\n",
              "      --bg-color: #3B4455;\n",
              "      --fill-color: #D2E3FC;\n",
              "      --hover-bg-color: #434B5C;\n",
              "      --hover-fill-color: #FFFFFF;\n",
              "      --disabled-bg-color: #3B4455;\n",
              "      --disabled-fill-color: #666;\n",
              "  }\n",
              "\n",
              "  .colab-df-quickchart {\n",
              "    background-color: var(--bg-color);\n",
              "    border: none;\n",
              "    border-radius: 50%;\n",
              "    cursor: pointer;\n",
              "    display: none;\n",
              "    fill: var(--fill-color);\n",
              "    height: 32px;\n",
              "    padding: 0;\n",
              "    width: 32px;\n",
              "  }\n",
              "\n",
              "  .colab-df-quickchart:hover {\n",
              "    background-color: var(--hover-bg-color);\n",
              "    box-shadow: 0 1px 2px rgba(60, 64, 67, 0.3), 0 1px 3px 1px rgba(60, 64, 67, 0.15);\n",
              "    fill: var(--button-hover-fill-color);\n",
              "  }\n",
              "\n",
              "  .colab-df-quickchart-complete:disabled,\n",
              "  .colab-df-quickchart-complete:disabled:hover {\n",
              "    background-color: var(--disabled-bg-color);\n",
              "    fill: var(--disabled-fill-color);\n",
              "    box-shadow: none;\n",
              "  }\n",
              "\n",
              "  .colab-df-spinner {\n",
              "    border: 2px solid var(--fill-color);\n",
              "    border-color: transparent;\n",
              "    border-bottom-color: var(--fill-color);\n",
              "    animation:\n",
              "      spin 1s steps(1) infinite;\n",
              "  }\n",
              "\n",
              "  @keyframes spin {\n",
              "    0% {\n",
              "      border-color: transparent;\n",
              "      border-bottom-color: var(--fill-color);\n",
              "      border-left-color: var(--fill-color);\n",
              "    }\n",
              "    20% {\n",
              "      border-color: transparent;\n",
              "      border-left-color: var(--fill-color);\n",
              "      border-top-color: var(--fill-color);\n",
              "    }\n",
              "    30% {\n",
              "      border-color: transparent;\n",
              "      border-left-color: var(--fill-color);\n",
              "      border-top-color: var(--fill-color);\n",
              "      border-right-color: var(--fill-color);\n",
              "    }\n",
              "    40% {\n",
              "      border-color: transparent;\n",
              "      border-right-color: var(--fill-color);\n",
              "      border-top-color: var(--fill-color);\n",
              "    }\n",
              "    60% {\n",
              "      border-color: transparent;\n",
              "      border-right-color: var(--fill-color);\n",
              "    }\n",
              "    80% {\n",
              "      border-color: transparent;\n",
              "      border-right-color: var(--fill-color);\n",
              "      border-bottom-color: var(--fill-color);\n",
              "    }\n",
              "    90% {\n",
              "      border-color: transparent;\n",
              "      border-bottom-color: var(--fill-color);\n",
              "    }\n",
              "  }\n",
              "</style>\n",
              "\n",
              "  <script>\n",
              "    async function quickchart(key) {\n",
              "      const quickchartButtonEl =\n",
              "        document.querySelector('#' + key + ' button');\n",
              "      quickchartButtonEl.disabled = true;  // To prevent multiple clicks.\n",
              "      quickchartButtonEl.classList.add('colab-df-spinner');\n",
              "      try {\n",
              "        const charts = await google.colab.kernel.invokeFunction(\n",
              "            'suggestCharts', [key], {});\n",
              "      } catch (error) {\n",
              "        console.error('Error during call to suggestCharts:', error);\n",
              "      }\n",
              "      quickchartButtonEl.classList.remove('colab-df-spinner');\n",
              "      quickchartButtonEl.classList.add('colab-df-quickchart-complete');\n",
              "    }\n",
              "    (() => {\n",
              "      let quickchartButtonEl =\n",
              "        document.querySelector('#df-755ff8a2-44e0-40f4-8fc8-44cffafb174a button');\n",
              "      quickchartButtonEl.style.display =\n",
              "        google.colab.kernel.accessAllowed ? 'block' : 'none';\n",
              "    })();\n",
              "  </script>\n",
              "</div>\n",
              "    </div>\n",
              "  </div>\n"
            ]
          },
          "metadata": {},
          "execution_count": 28
        }
      ]
    },
    {
      "cell_type": "markdown",
      "source": [
        "Let's explore the data distribution by creating histograms for key numerical attributes."
      ],
      "metadata": {
        "id": "h7iQ3nuFYjPW"
      }
    },
    {
      "cell_type": "code",
      "source": [
        "plt.figure(figsize=(12, 6))\n",
        "sns.histplot(customer_data['Age'], bins=30, kde=True)\n",
        "plt.xlabel('Age')\n",
        "plt.title('Age Distribution')\n",
        "plt.show()"
      ],
      "metadata": {
        "execution": {
          "iopub.status.busy": "2023-09-05T13:02:12.548007Z",
          "iopub.execute_input": "2023-09-05T13:02:12.548924Z",
          "iopub.status.idle": "2023-09-05T13:02:13.323109Z",
          "shell.execute_reply.started": "2023-09-05T13:02:12.548877Z",
          "shell.execute_reply": "2023-09-05T13:02:13.322129Z"
        },
        "trusted": true,
        "colab": {
          "base_uri": "https://localhost:8080/",
          "height": 564
        },
        "id": "IzoMCdKyYjPW",
        "outputId": "970e609e-c16d-44c2-8444-1005f68678b4"
      },
      "execution_count": 29,
      "outputs": [
        {
          "output_type": "display_data",
          "data": {
            "text/plain": [
              "<Figure size 1200x600 with 1 Axes>"
            ],
            "image/png": "[encoded data removed]"
          },
          "metadata": {}
        }
      ]
    },
    {
      "cell_type": "code",
      "source": [
        "plt.figure(figsize=(12, 6))\n",
        "sns.histplot(customer_data['Monthly_Bill'], bins=30, kde=True)\n",
        "plt.xlabel('Monthly Bill Amount')\n",
        "plt.title('Monthly Bill Distribution')\n",
        "plt.show()"
      ],
      "metadata": {
        "execution": {
          "iopub.status.busy": "2023-09-05T13:02:13.324664Z",
          "iopub.execute_input": "2023-09-05T13:02:13.324996Z",
          "iopub.status.idle": "2023-09-05T13:02:14.124187Z",
          "shell.execute_reply.started": "2023-09-05T13:02:13.324964Z",
          "shell.execute_reply": "2023-09-05T13:02:14.123214Z"
        },
        "trusted": true,
        "colab": {
          "base_uri": "https://localhost:8080/",
          "height": 564
        },
        "id": "lHhAV4KqYjPX",
        "outputId": "42860b00-e9e0-41e2-f7fc-c4b5f50a7d63"
      },
      "execution_count": 30,
      "outputs": [
        {
          "output_type": "display_data",
          "data": {
            "text/plain": [
              "<Figure size 1200x600 with 1 Axes>"
            ],
            "image/png": "[encoded data removed]"
          },
          "metadata": {}
        }
      ]
    },
    {
      "cell_type": "markdown",
      "source": [
        "Now, we'll delve into churn analysis to understand the proportion of churned vs. non-churned customers."
      ],
      "metadata": {
        "id": "24pvNX0PYjPX"
      }
    },
    {
      "cell_type": "code",
      "source": [
        "plt.figure(figsize=(6, 6))\n",
        "customer_data['Churn'].value_counts().plot(kind='bar', rot=0)\n",
        "plt.xlabel('Churn')\n",
        "plt.ylabel('Count')\n",
        "plt.title('Churn Distribution')\n",
        "plt.show()"
      ],
      "metadata": {
        "execution": {
          "iopub.status.busy": "2023-09-05T13:02:14.125743Z",
          "iopub.execute_input": "2023-09-05T13:02:14.126123Z",
          "iopub.status.idle": "2023-09-05T13:02:14.374174Z",
          "shell.execute_reply.started": "2023-09-05T13:02:14.126089Z",
          "shell.execute_reply": "2023-09-05T13:02:14.373252Z"
        },
        "trusted": true,
        "colab": {
          "base_uri": "https://localhost:8080/",
          "height": 564
        },
        "id": "jkJyN_p6YjPX",
        "outputId": "fbaedb3d-3f08-45c6-c3b1-5af28107563a"
      },
      "execution_count": 31,
      "outputs": [
        {
          "output_type": "display_data",
          "data": {
            "text/plain": [
              "<Figure size 600x600 with 1 Axes>"
            ],
            "image/png": "[encoded data removed]"
          },
          "metadata": {}
        }
      ]
    },
    {
      "cell_type": "markdown",
      "source": [
        "Let's investigate how gender relates to churn through visualizations."
      ],
      "metadata": {
        "id": "WeF1haZQYjPX"
      }
    },
    {
      "cell_type": "code",
      "source": [
        "plt.figure(figsize=(6, 6))\n",
        "sns.countplot(data=customer_data, x='Gender', hue='Churn', palette='Set2')\n",
        "plt.xlabel('Gender')\n",
        "plt.ylabel('Count')\n",
        "plt.title('Churn by Gender')\n",
        "plt.show()"
      ],
      "metadata": {
        "execution": {
          "iopub.status.busy": "2023-09-05T13:02:14.375685Z",
          "iopub.execute_input": "2023-09-05T13:02:14.376034Z",
          "iopub.status.idle": "2023-09-05T13:02:14.739117Z",
          "shell.execute_reply.started": "2023-09-05T13:02:14.375999Z",
          "shell.execute_reply": "2023-09-05T13:02:14.738171Z"
        },
        "trusted": true,
        "colab": {
          "base_uri": "https://localhost:8080/",
          "height": 564
        },
        "id": "3KcK0rQ1YjPX",
        "outputId": "5e6ae706-391e-46ed-fad1-91cfb96565b3"
      },
      "execution_count": 32,
      "outputs": [
        {
          "output_type": "display_data",
          "data": {
            "text/plain": [
              "<Figure size 600x600 with 1 Axes>"
            ],
            "image/png": "[encoded data removed]"
          },
          "metadata": {}
        }
      ]
    },
    {
      "cell_type": "code",
      "source": [
        "plt.figure(figsize=(8, 6))\n",
        "sns.boxplot(data=customer_data, x='Churn', y='Age', palette='Set2')\n",
        "plt.xlabel('Churn')\n",
        "plt.ylabel('Age')\n",
        "plt.title('Age vs. Churn')\n",
        "plt.show()"
      ],
      "metadata": {
        "execution": {
          "iopub.status.busy": "2023-09-05T13:02:14.740471Z",
          "iopub.execute_input": "2023-09-05T13:02:14.741112Z",
          "iopub.status.idle": "2023-09-05T13:02:14.997985Z",
          "shell.execute_reply.started": "2023-09-05T13:02:14.741077Z",
          "shell.execute_reply": "2023-09-05T13:02:14.997035Z"
        },
        "trusted": true,
        "colab": {
          "base_uri": "https://localhost:8080/",
          "height": 564
        },
        "id": "MBMUS8yGYjPX",
        "outputId": "f4f520fa-b049-4d28-a55a-06a7fd372827"
      },
      "execution_count": 33,
      "outputs": [
        {
          "output_type": "display_data",
          "data": {
            "text/plain": [
              "<Figure size 800x600 with 1 Axes>"
            ],
            "image/png": "[encoded data removed]"
          },
          "metadata": {}
        }
      ]
    },
    {
      "cell_type": "code",
      "source": [
        "plt.figure(figsize=(8, 6))\n",
        "sns.boxplot(data=customer_data, x='Gender', y='Age', hue='Churn', palette='Set2')\n",
        "plt.xlabel('Gender')\n",
        "plt.ylabel('Age')\n",
        "plt.title('Age Distribution by Gender and Churn')\n",
        "plt.show()"
      ],
      "metadata": {
        "execution": {
          "iopub.status.busy": "2023-09-05T13:02:14.999285Z",
          "iopub.execute_input": "2023-09-05T13:02:14.999649Z",
          "iopub.status.idle": "2023-09-05T13:02:15.839374Z",
          "shell.execute_reply.started": "2023-09-05T13:02:14.999615Z",
          "shell.execute_reply": "2023-09-05T13:02:15.838420Z"
        },
        "trusted": true,
        "colab": {
          "base_uri": "https://localhost:8080/",
          "height": 564
        },
        "id": "MqUYmYGgYjPY",
        "outputId": "d301cfbf-857c-425f-dc04-07b6e89ea683"
      },
      "execution_count": 34,
      "outputs": [
        {
          "output_type": "display_data",
          "data": {
            "text/plain": [
              "<Figure size 800x600 with 1 Axes>"
            ],
            "image/png": "[encoded data removed]"
          },
          "metadata": {}
        }
      ]
    },
    {
      "cell_type": "code",
      "source": [
        "plt.figure(figsize=(8, 6))\n",
        "sns.violinplot(data=customer_data, x='Churn', y='Age', palette='Set2')\n",
        "plt.xlabel('Churn')\n",
        "plt.ylabel('Age')\n",
        "plt.title('Age vs. Churn (Violin Plot)')\n",
        "plt.show()"
      ],
      "metadata": {
        "execution": {
          "iopub.status.busy": "2023-09-05T13:02:15.840675Z",
          "iopub.execute_input": "2023-09-05T13:02:15.841446Z",
          "iopub.status.idle": "2023-09-05T13:02:16.419025Z",
          "shell.execute_reply.started": "2023-09-05T13:02:15.841410Z",
          "shell.execute_reply": "2023-09-05T13:02:16.418144Z"
        },
        "trusted": true,
        "colab": {
          "base_uri": "https://localhost:8080/",
          "height": 564
        },
        "id": "Hh7QQVTUYjPY",
        "outputId": "3235c88f-be86-4419-9db1-6368c035f8ce"
      },
      "execution_count": 35,
      "outputs": [
        {
          "output_type": "display_data",
          "data": {
            "text/plain": [
              "<Figure size 800x600 with 1 Axes>"
            ],
            "image/png": "[encoded data removed]"
          },
          "metadata": {}
        }
      ]
    },
    {
      "cell_type": "code",
      "source": [
        "plt.figure(figsize=(10, 6))\n",
        "sns.countplot(data=customer_data, x='Location', hue='Churn', palette='Set2')\n",
        "plt.xlabel('Location')\n",
        "plt.ylabel('Count')\n",
        "plt.title('Churn by Location')\n",
        "plt.show()"
      ],
      "metadata": {
        "execution": {
          "iopub.status.busy": "2023-09-05T13:02:16.420652Z",
          "iopub.execute_input": "2023-09-05T13:02:16.421327Z",
          "iopub.status.idle": "2023-09-05T13:02:16.832795Z",
          "shell.execute_reply.started": "2023-09-05T13:02:16.421291Z",
          "shell.execute_reply": "2023-09-05T13:02:16.831878Z"
        },
        "trusted": true,
        "colab": {
          "base_uri": "https://localhost:8080/",
          "height": 564
        },
        "id": "huljx7wdYjPY",
        "outputId": "1489fc19-5a8a-4ec9-8d26-937ef85522cf"
      },
      "execution_count": 36,
      "outputs": [
        {
          "output_type": "display_data",
          "data": {
            "text/plain": [
              "<Figure size 1000x600 with 1 Axes>"
            ],
            "image/png": "[encoded data removed]"
          },
          "metadata": {}
        }
      ]
    },
    {
      "cell_type": "markdown",
      "source": [
        " Let's explore the distribution of customers across different locations if 'Location' is categorical."
      ],
      "metadata": {
        "id": "MhzZVjv9YjPY"
      }
    },
    {
      "cell_type": "code",
      "source": [
        "sns.countplot(x='Location', hue='Gender', data=customer_data, palette='Set2')\n",
        "\n",
        "plt.xlabel('Location')\n",
        "plt.ylabel('Count')\n",
        "plt.title('Comparison of Gender and Location')"
      ],
      "metadata": {
        "execution": {
          "iopub.status.busy": "2023-09-05T13:02:16.834411Z",
          "iopub.execute_input": "2023-09-05T13:02:16.835064Z",
          "iopub.status.idle": "2023-09-05T13:02:17.340270Z",
          "shell.execute_reply.started": "2023-09-05T13:02:16.835027Z",
          "shell.execute_reply": "2023-09-05T13:02:17.339283Z"
        },
        "trusted": true,
        "colab": {
          "base_uri": "https://localhost:8080/",
          "height": 490
        },
        "id": "xHbtxV3WYjPY",
        "outputId": "96a669d4-3934-4db4-df85-1911e9171877"
      },
      "execution_count": 37,
      "outputs": [
        {
          "output_type": "execute_result",
          "data": {
            "text/plain": [
              "Text(0.5, 1.0, 'Comparison of Gender and Location')"
            ]
          },
          "metadata": {},
          "execution_count": 37
        },
        {
          "output_type": "display_data",
          "data": {
            "text/plain": [
              "<Figure size 640x480 with 1 Axes>"
            ],
            "image/png": "[encoded data removed]"
          },
          "metadata": {}
        }
      ]
    },
    {
      "cell_type": "markdown",
      "source": [
        "Now, we'll compare subscription lengths between churned and non-churned customers."
      ],
      "metadata": {
        "id": "n72ALAZpYjPY"
      }
    },
    {
      "cell_type": "code",
      "source": [
        "plt.figure(figsize=(8, 6))\n",
        "sns.boxplot(data=customer_data, x='Churn', y='Subscription_Length_Months',palette='Set2')\n",
        "plt.xlabel('Churn')\n",
        "plt.ylabel('Subscription Length (Months)')\n",
        "plt.title('Subscription Length vs. Churn')\n",
        "plt.show()"
      ],
      "metadata": {
        "execution": {
          "iopub.status.busy": "2023-09-05T13:02:17.341791Z",
          "iopub.execute_input": "2023-09-05T13:02:17.342414Z",
          "iopub.status.idle": "2023-09-05T13:02:17.600038Z",
          "shell.execute_reply.started": "2023-09-05T13:02:17.342377Z",
          "shell.execute_reply": "2023-09-05T13:02:17.599118Z"
        },
        "trusted": true,
        "colab": {
          "base_uri": "https://localhost:8080/",
          "height": 564
        },
        "id": "PsGZklgkYjPZ",
        "outputId": "568444bd-3641-4c23-964b-20d338dd9307"
      },
      "execution_count": 38,
      "outputs": [
        {
          "output_type": "display_data",
          "data": {
            "text/plain": [
              "<Figure size 800x600 with 1 Axes>"
            ],
            "image/png": "[encoded data removed]"
          },
          "metadata": {}
        }
      ]
    },
    {
      "cell_type": "markdown",
      "source": [
        "Now, we'll generate a heatmap to uncover correlations between numerical features."
      ],
      "metadata": {
        "id": "UG_OX5afYjPd"
      }
    },
    {
      "cell_type": "code",
      "source": [
        "numeric_columns = customer_data.select_dtypes(include=['number'])\n",
        "\n",
        "correlation_matrix = numeric_columns.corr()\n",
        "plt.figure(figsize=(8, 6))\n",
        "sns.heatmap(correlation_matrix, annot=True, cmap=\"crest\", linewidth=.5)\n",
        "plt.title('Correlation Matrix (Numeric Data Only)')\n",
        "plt.show()"
      ],
      "metadata": {
        "execution": {
          "iopub.status.busy": "2023-09-05T13:02:17.601547Z",
          "iopub.execute_input": "2023-09-05T13:02:17.601876Z",
          "iopub.status.idle": "2023-09-05T13:02:18.032081Z",
          "shell.execute_reply.started": "2023-09-05T13:02:17.601843Z",
          "shell.execute_reply": "2023-09-05T13:02:18.031162Z"
        },
        "trusted": true,
        "colab": {
          "base_uri": "https://localhost:8080/",
          "height": 729
        },
        "id": "Ec3gkzsCYjPd",
        "outputId": "e4053bf3-177d-4559-faf2-a1ba0b5cede9"
      },
      "execution_count": 39,
      "outputs": [
        {
          "output_type": "display_data",
          "data": {
            "text/plain": [
              "<Figure size 800x600 with 2 Axes>"
            ],
            "image/png": "[encoded data removed]"
          },
          "metadata": {}
        }
      ]
    },
    {
      "cell_type": "markdown",
      "source": [
        "Here we don't see any special correlation among the parameters"
      ],
      "metadata": {
        "id": "cqIaakztYjPe"
      }
    },
    {
      "cell_type": "markdown",
      "source": [
        "# Feature Engineering"
      ],
      "metadata": {
        "id": "LJrewrsKYjPe"
      }
    },
    {
      "cell_type": "markdown",
      "source": [
        "I'll exclude 'Name' and 'CustomerID' columns from the dataset since they are not relevant for model building."
      ],
      "metadata": {
        "id": "M4DDlttfYjPe"
      }
    },
    {
      "cell_type": "code",
      "source": [
        "customer_data.drop(['CustomerID','Name'],inplace=True,axis=1)"
      ],
      "metadata": {
        "execution": {
          "iopub.status.busy": "2023-09-05T13:02:18.033464Z",
          "iopub.execute_input": "2023-09-05T13:02:18.034497Z",
          "iopub.status.idle": "2023-09-05T13:02:18.047086Z",
          "shell.execute_reply.started": "2023-09-05T13:02:18.034461Z",
          "shell.execute_reply": "2023-09-05T13:02:18.046163Z"
        },
        "trusted": true,
        "id": "sn-TWK8iYjPe"
      },
      "execution_count": 40,
      "outputs": []
    },
    {
      "cell_type": "code",
      "source": [
        "customer_data.columns"
      ],
      "metadata": {
        "execution": {
          "iopub.status.busy": "2023-09-05T13:02:18.048439Z",
          "iopub.execute_input": "2023-09-05T13:02:18.049502Z",
          "iopub.status.idle": "2023-09-05T13:02:18.059137Z",
          "shell.execute_reply.started": "2023-09-05T13:02:18.049470Z",
          "shell.execute_reply": "2023-09-05T13:02:18.058261Z"
        },
        "trusted": true,
        "colab": {
          "base_uri": "https://localhost:8080/"
        },
        "id": "49UNuKlzYjPe",
        "outputId": "2cc7fa9c-9317-4f69-c01c-b76cde377bcc"
      },
      "execution_count": 41,
      "outputs": [
        {
          "output_type": "execute_result",
          "data": {
            "text/plain": [
              "Index(['Age', 'Gender', 'Location', 'Subscription_Length_Months',\n",
              "       'Monthly_Bill', 'Total_Usage_GB', 'Churn'],\n",
              "      dtype='object')"
            ]
          },
          "metadata": {},
          "execution_count": 41
        }
      ]
    },
    {
      "cell_type": "code",
      "source": [
        "categorical_columns = ['Gender','Location']\n",
        "numerical_columns = ['Age', 'Subscription_Length_Months', 'Monthly_Bill', 'Total_Usage_GB']"
      ],
      "metadata": {
        "execution": {
          "iopub.status.busy": "2023-09-05T13:02:18.060705Z",
          "iopub.execute_input": "2023-09-05T13:02:18.061038Z",
          "iopub.status.idle": "2023-09-05T13:02:18.069708Z",
          "shell.execute_reply.started": "2023-09-05T13:02:18.060999Z",
          "shell.execute_reply": "2023-09-05T13:02:18.068778Z"
        },
        "trusted": true,
        "id": "01dI-7VpYjPe"
      },
      "execution_count": 42,
      "outputs": []
    },
    {
      "cell_type": "markdown",
      "source": [
        "One-hot encoding (OHE) converts categorical variables into binary vectors."
      ],
      "metadata": {
        "id": "1RrImcW9YjPe"
      }
    },
    {
      "cell_type": "code",
      "source": [
        "ohe = OneHotEncoder(drop='first', sparse_output=False)\n",
        "ohe_encoded = ohe.fit_transform(customer_data[categorical_columns])\n",
        "ohe_column_names = ohe.get_feature_names_out(input_features=categorical_columns)"
      ],
      "metadata": {
        "execution": {
          "iopub.status.busy": "2023-09-05T13:02:18.077971Z",
          "iopub.execute_input": "2023-09-05T13:02:18.078324Z",
          "iopub.status.idle": "2023-09-05T13:02:18.185265Z",
          "shell.execute_reply.started": "2023-09-05T13:02:18.078298Z",
          "shell.execute_reply": "2023-09-05T13:02:18.184265Z"
        },
        "trusted": true,
        "id": "2yZl88fbYjPf"
      },
      "execution_count": 43,
      "outputs": []
    },
    {
      "cell_type": "markdown",
      "source": [
        "Min-Max scaling transforms numerical features to a common range"
      ],
      "metadata": {
        "id": "3uS0xdGjYjPf"
      }
    },
    {
      "cell_type": "code",
      "source": [
        "scaler = MinMaxScaler()\n",
        "scaled_data = scaler.fit_transform(customer_data[numerical_columns])"
      ],
      "metadata": {
        "execution": {
          "iopub.status.busy": "2023-09-05T13:02:18.187000Z",
          "iopub.execute_input": "2023-09-05T13:02:18.187674Z",
          "iopub.status.idle": "2023-09-05T13:02:18.201974Z",
          "shell.execute_reply.started": "2023-09-05T13:02:18.187637Z",
          "shell.execute_reply": "2023-09-05T13:02:18.200958Z"
        },
        "trusted": true,
        "id": "Zr1HnGiZYjPf"
      },
      "execution_count": 44,
      "outputs": []
    },
    {
      "cell_type": "code",
      "source": [
        "df_combined = pd.DataFrame(\n",
        "    data=np.concatenate((ohe_encoded, scaled_data, customer_data[['Churn']].values), axis=1),\n",
        "    columns=list(ohe_column_names) + numerical_columns + ['Churn']\n",
        ")"
      ],
      "metadata": {
        "execution": {
          "iopub.status.busy": "2023-09-05T13:02:18.203582Z",
          "iopub.execute_input": "2023-09-05T13:02:18.204099Z",
          "iopub.status.idle": "2023-09-05T13:02:18.213753Z",
          "shell.execute_reply.started": "2023-09-05T13:02:18.204066Z",
          "shell.execute_reply": "2023-09-05T13:02:18.212663Z"
        },
        "trusted": true,
        "id": "5m_3Ktq7YjPf"
      },
      "execution_count": 45,
      "outputs": []
    },
    {
      "cell_type": "code",
      "source": [
        "df_combined.head()"
      ],
      "metadata": {
        "execution": {
          "iopub.status.busy": "2023-09-05T13:02:18.215260Z",
          "iopub.execute_input": "2023-09-05T13:02:18.215813Z",
          "iopub.status.idle": "2023-09-05T13:02:18.237860Z",
          "shell.execute_reply.started": "2023-09-05T13:02:18.215780Z",
          "shell.execute_reply": "2023-09-05T13:02:18.236622Z"
        },
        "trusted": true,
        "colab": {
          "base_uri": "https://localhost:8080/",
          "height": 223
        },
        "id": "aNiniPeoYjPf",
        "outputId": "e24c285b-20c8-4984-8e77-2d0e965bfc52"
      },
      "execution_count": 46,
      "outputs": [
        {
          "output_type": "execute_result",
          "data": {
            "text/plain": [
              "   Gender_Male  Location_Houston  Location_Los Angeles  Location_Miami  \\\n",
              "0          1.0               0.0                   1.0             0.0   \n",
              "1          0.0               0.0                   0.0             0.0   \n",
              "2          0.0               0.0                   1.0             0.0   \n",
              "3          0.0               0.0                   0.0             1.0   \n",
              "4          0.0               0.0                   0.0             1.0   \n",
              "\n",
              "   Location_New York       Age  Subscription_Length_Months  Monthly_Bill  \\\n",
              "0                0.0  0.865385                    0.695652      0.619429   \n",
              "1                1.0  0.846154                    0.000000      0.268000   \n",
              "2                0.0  0.115385                    0.173913      0.792429   \n",
              "3                0.0  0.346154                    0.086957      0.970571   \n",
              "4                0.0  0.538462                    0.782609      0.402000   \n",
              "\n",
              "   Total_Usage_GB  Churn  \n",
              "0        0.413333    0.0  \n",
              "1        0.271111    0.0  \n",
              "2        0.911111    0.0  \n",
              "3        0.548889    1.0  \n",
              "4        0.480000    0.0  "
            ],
            "text/html": [
              "\n",
              "  <div id=\"df-3db041c5-34ca-4ffc-89ea-d608fbc4de0d\" class=\"colab-df-container\">\n",
              "    <div>\n",
              "<style scoped>\n",
              "    .dataframe tbody tr th:only-of-type {\n",
              "        vertical-align: middle;\n",
              "    }\n",
              "\n",
              "    .dataframe tbody tr th {\n",
              "        vertical-align: top;\n",
              "    }\n",
              "\n",
              "    .dataframe thead th {\n",
              "        text-align: right;\n",
              "    }\n",
              "</style>\n",
              "<table border=\"1\" class=\"dataframe\">\n",
              "  <thead>\n",
              "    <tr style=\"text-align: right;\">\n",
              "      <th></th>\n",
              "      <th>Gender_Male</th>\n",
              "      <th>Location_Houston</th>\n",
              "      <th>Location_Los Angeles</th>\n",
              "      <th>Location_Miami</th>\n",
              "      <th>Location_New York</th>\n",
              "      <th>Age</th>\n",
              "      <th>Subscription_Length_Months</th>\n",
              "      <th>Monthly_Bill</th>\n",
              "      <th>Total_Usage_GB</th>\n",
              "      <th>Churn</th>\n",
              "    </tr>\n",
              "  </thead>\n",
              "  <tbody>\n",
              "    <tr>\n",
              "      <th>0</th>\n",
              "      <td>1.0</td>\n",
              "      <td>0.0</td>\n",
              "      <td>1.0</td>\n",
              "      <td>0.0</td>\n",
              "      <td>0.0</td>\n",
              "      <td>0.865385</td>\n",
              "      <td>0.695652</td>\n",
              "      <td>0.619429</td>\n",
              "      <td>0.413333</td>\n",
              "      <td>0.0</td>\n",
              "    </tr>\n",
              "    <tr>\n",
              "      <th>1</th>\n",
              "      <td>0.0</td>\n",
              "      <td>0.0</td>\n",
              "      <td>0.0</td>\n",
              "      <td>0.0</td>\n",
              "      <td>1.0</td>\n",
              "      <td>0.846154</td>\n",
              "      <td>0.000000</td>\n",
              "      <td>0.268000</td>\n",
              "      <td>0.271111</td>\n",
              "      <td>0.0</td>\n",
              "    </tr>\n",
              "    <tr>\n",
              "      <th>2</th>\n",
              "      <td>0.0</td>\n",
              "      <td>0.0</td>\n",
              "      <td>1.0</td>\n",
              "      <td>0.0</td>\n",
              "      <td>0.0</td>\n",
              "      <td>0.115385</td>\n",
              "      <td>0.173913</td>\n",
              "      <td>0.792429</td>\n",
              "      <td>0.911111</td>\n",
              "      <td>0.0</td>\n",
              "    </tr>\n",
              "    <tr>\n",
              "      <th>3</th>\n",
              "      <td>0.0</td>\n",
              "      <td>0.0</td>\n",
              "      <td>0.0</td>\n",
              "      <td>1.0</td>\n",
              "      <td>0.0</td>\n",
              "      <td>0.346154</td>\n",
              "      <td>0.086957</td>\n",
              "      <td>0.970571</td>\n",
              "      <td>0.548889</td>\n",
              "      <td>1.0</td>\n",
              "    </tr>\n",
              "    <tr>\n",
              "      <th>4</th>\n",
              "      <td>0.0</td>\n",
              "      <td>0.0</td>\n",
              "      <td>0.0</td>\n",
              "      <td>1.0</td>\n",
              "      <td>0.0</td>\n",
              "      <td>0.538462</td>\n",
              "      <td>0.782609</td>\n",
              "      <td>0.402000</td>\n",
              "      <td>0.480000</td>\n",
              "      <td>0.0</td>\n",
              "    </tr>\n",
              "  </tbody>\n",
              "</table>\n",
              "</div>\n",
              "    <div class=\"colab-df-buttons\">\n",
              "\n",
              "  <div class=\"colab-df-container\">\n",
              "    <button class=\"colab-df-convert\" onclick=\"convertToInteractive('df-3db041c5-34ca-4ffc-89ea-d608fbc4de0d')\"\n",
              "            title=\"Convert this dataframe to an interactive table.\"\n",
              "            style=\"display:none;\">\n",
              "\n",
              "  <svg xmlns=\"http://www.w3.org/2000/svg\" height=\"24px\" viewBox=\"0 -960 960 960\">\n",
              "    <path d=\"M120-120v-720h720v720H120Zm60-500h600v-160H180v160Zm220 220h160v-160H400v160Zm0 220h160v-160H400v160ZM180-400h160v-160H180v160Zm440 0h160v-160H620v160ZM180-180h160v-160H180v160Zm440 0h160v-160H620v160Z\"/>\n",
              "  </svg>\n",
              "    </button>\n",
              "\n",
              "  <style>\n",
              "    .colab-df-container {\n",
              "      display:flex;\n",
              "      gap: 12px;\n",
              "    }\n",
              "\n",
              "    .colab-df-convert {\n",
              "      background-color: #E8F0FE;\n",
              "      border: none;\n",
              "      border-radius: 50%;\n",
              "      cursor: pointer;\n",
              "      display: none;\n",
              "      fill: #1967D2;\n",
              "      height: 32px;\n",
              "      padding: 0 0 0 0;\n",
              "      width: 32px;\n",
              "    }\n",
              "\n",
              "    .colab-df-convert:hover {\n",
              "      background-color: #E2EBFA;\n",
              "      box-shadow: 0px 1px 2px rgba(60, 64, 67, 0.3), 0px 1px 3px 1px rgba(60, 64, 67, 0.15);\n",
              "      fill: #174EA6;\n",
              "    }\n",
              "\n",
              "    .colab-df-buttons div {\n",
              "      margin-bottom: 4px;\n",
              "    }\n",
              "\n",
              "    [theme=dark] .colab-df-convert {\n",
              "      background-color: #3B4455;\n",
              "      fill: #D2E3FC;\n",
              "    }\n",
              "\n",
              "    [theme=dark] .colab-df-convert:hover {\n",
              "      background-color: #434B5C;\n",
              "      box-shadow: 0px 1px 3px 1px rgba(0, 0, 0, 0.15);\n",
              "      filter: drop-shadow(0px 1px 2px rgba(0, 0, 0, 0.3));\n",
              "      fill: #FFFFFF;\n",
              "    }\n",
              "  </style>\n",
              "\n",
              "    <script>\n",
              "      const buttonEl =\n",
              "        document.querySelector('#df-3db041c5-34ca-4ffc-89ea-d608fbc4de0d button.colab-df-convert');\n",
              "      buttonEl.style.display =\n",
              "        google.colab.kernel.accessAllowed ? 'block' : 'none';\n",
              "\n",
              "      async function convertToInteractive(key) {\n",
              "        const element = document.querySelector('#df-3db041c5-34ca-4ffc-89ea-d608fbc4de0d');\n",
              "        const dataTable =\n",
              "          await google.colab.kernel.invokeFunction('convertToInteractive',\n",
              "                                                    [key], {});\n",
              "        if (!dataTable) return;\n",
              "\n",
              "        const docLinkHtml = 'Like what you see? Visit the ' +\n",
              "          '<a target=\"_blank\" href=https://colab.research.google.com/notebooks/data_table.ipynb>data table notebook</a>'\n",
              "          + ' to learn more about interactive tables.';\n",
              "        element.innerHTML = '';\n",
              "        dataTable['output_type'] = 'display_data';\n",
              "        await google.colab.output.renderOutput(dataTable, element);\n",
              "        const docLink = document.createElement('div');\n",
              "        docLink.innerHTML = docLinkHtml;\n",
              "        element.appendChild(docLink);\n",
              "      }\n",
              "    </script>\n",
              "  </div>\n",
              "\n",
              "\n",
              "<div id=\"df-a075d20a-8c87-4fe8-b026-39e89a7b16a2\">\n",
              "  <button class=\"colab-df-quickchart\" onclick=\"quickchart('df-a075d20a-8c87-4fe8-b026-39e89a7b16a2')\"\n",
              "            title=\"Suggest charts.\"\n",
              "            style=\"display:none;\">\n",
              "\n",
              "<svg xmlns=\"http://www.w3.org/2000/svg\" height=\"24px\"viewBox=\"0 0 24 24\"\n",
              "     width=\"24px\">\n",
              "    <g>\n",
              "        <path d=\"M19 3H5c-1.1 0-2 .9-2 2v14c0 1.1.9 2 2 2h14c1.1 0 2-.9 2-2V5c0-1.1-.9-2-2-2zM9 17H7v-7h2v7zm4 0h-2V7h2v10zm4 0h-2v-4h2v4z\"/>\n",
              "    </g>\n",
              "</svg>\n",
              "  </button>\n",
              "\n",
              "<style>\n",
              "  .colab-df-quickchart {\n",
              "      --bg-color: #E8F0FE;\n",
              "      --fill-color: #1967D2;\n",
              "      --hover-bg-color: #E2EBFA;\n",
              "      --hover-fill-color: #174EA6;\n",
              "      --disabled-fill-color: #AAA;\n",
              "      --disabled-bg-color: #DDD;\n",
              "  }\n",
              "\n",
              "  [theme=dark] .colab-df-quickchart {\n",
              "      --bg-color: #3B4455;\n",
              "      --fill-color: #D2E3FC;\n",
              "      --hover-bg-color: #434B5C;\n",
              "      --hover-fill-color: #FFFFFF;\n",
              "      --disabled-bg-color: #3B4455;\n",
              "      --disabled-fill-color: #666;\n",
              "  }\n",
              "\n",
              "  .colab-df-quickchart {\n",
              "    background-color: var(--bg-color);\n",
              "    border: none;\n",
              "    border-radius: 50%;\n",
              "    cursor: pointer;\n",
              "    display: none;\n",
              "    fill: var(--fill-color);\n",
              "    height: 32px;\n",
              "    padding: 0;\n",
              "    width: 32px;\n",
              "  }\n",
              "\n",
              "  .colab-df-quickchart:hover {\n",
              "    background-color: var(--hover-bg-color);\n",
              "    box-shadow: 0 1px 2px rgba(60, 64, 67, 0.3), 0 1px 3px 1px rgba(60, 64, 67, 0.15);\n",
              "    fill: var(--button-hover-fill-color);\n",
              "  }\n",
              "\n",
              "  .colab-df-quickchart-complete:disabled,\n",
              "  .colab-df-quickchart-complete:disabled:hover {\n",
              "    background-color: var(--disabled-bg-color);\n",
              "    fill: var(--disabled-fill-color);\n",
              "    box-shadow: none;\n",
              "  }\n",
              "\n",
              "  .colab-df-spinner {\n",
              "    border: 2px solid var(--fill-color);\n",
              "    border-color: transparent;\n",
              "    border-bottom-color: var(--fill-color);\n",
              "    animation:\n",
              "      spin 1s steps(1) infinite;\n",
              "  }\n",
              "\n",
              "  @keyframes spin {\n",
              "    0% {\n",
              "      border-color: transparent;\n",
              "      border-bottom-color: var(--fill-color);\n",
              "      border-left-color: var(--fill-color);\n",
              "    }\n",
              "    20% {\n",
              "      border-color: transparent;\n",
              "      border-left-color: var(--fill-color);\n",
              "      border-top-color: var(--fill-color);\n",
              "    }\n",
              "    30% {\n",
              "      border-color: transparent;\n",
              "      border-left-color: var(--fill-color);\n",
              "      border-top-color: var(--fill-color);\n",
              "      border-right-color: var(--fill-color);\n",
              "    }\n",
              "    40% {\n",
              "      border-color: transparent;\n",
              "      border-right-color: var(--fill-color);\n",
              "      border-top-color: var(--fill-color);\n",
              "    }\n",
              "    60% {\n",
              "      border-color: transparent;\n",
              "      border-right-color: var(--fill-color);\n",
              "    }\n",
              "    80% {\n",
              "      border-color: transparent;\n",
              "      border-right-color: var(--fill-color);\n",
              "      border-bottom-color: var(--fill-color);\n",
              "    }\n",
              "    90% {\n",
              "      border-color: transparent;\n",
              "      border-bottom-color: var(--fill-color);\n",
              "    }\n",
              "  }\n",
              "</style>\n",
              "\n",
              "  <script>\n",
              "    async function quickchart(key) {\n",
              "      const quickchartButtonEl =\n",
              "        document.querySelector('#' + key + ' button');\n",
              "      quickchartButtonEl.disabled = true;  // To prevent multiple clicks.\n",
              "      quickchartButtonEl.classList.add('colab-df-spinner');\n",
              "      try {\n",
              "        const charts = await google.colab.kernel.invokeFunction(\n",
              "            'suggestCharts', [key], {});\n",
              "      } catch (error) {\n",
              "        console.error('Error during call to suggestCharts:', error);\n",
              "      }\n",
              "      quickchartButtonEl.classList.remove('colab-df-spinner');\n",
              "      quickchartButtonEl.classList.add('colab-df-quickchart-complete');\n",
              "    }\n",
              "    (() => {\n",
              "      let quickchartButtonEl =\n",
              "        document.querySelector('#df-a075d20a-8c87-4fe8-b026-39e89a7b16a2 button');\n",
              "      quickchartButtonEl.style.display =\n",
              "        google.colab.kernel.accessAllowed ? 'block' : 'none';\n",
              "    })();\n",
              "  </script>\n",
              "</div>\n",
              "    </div>\n",
              "  </div>\n"
            ]
          },
          "metadata": {},
          "execution_count": 46
        }
      ]
    },
    {
      "cell_type": "code",
      "source": [
        "df_combined.shape"
      ],
      "metadata": {
        "execution": {
          "iopub.status.busy": "2023-09-05T13:02:18.239533Z",
          "iopub.execute_input": "2023-09-05T13:02:18.239979Z",
          "iopub.status.idle": "2023-09-05T13:02:18.253551Z",
          "shell.execute_reply.started": "2023-09-05T13:02:18.239944Z",
          "shell.execute_reply": "2023-09-05T13:02:18.252410Z"
        },
        "trusted": true,
        "colab": {
          "base_uri": "https://localhost:8080/"
        },
        "id": "ry0vY9q8YjPf",
        "outputId": "a416f0ac-03d4-4466-e9ec-34af773690e9"
      },
      "execution_count": 47,
      "outputs": [
        {
          "output_type": "execute_result",
          "data": {
            "text/plain": [
              "(100000, 10)"
            ]
          },
          "metadata": {},
          "execution_count": 47
        }
      ]
    },
    {
      "cell_type": "code",
      "source": [
        "df_combined.columns"
      ],
      "metadata": {
        "execution": {
          "iopub.status.busy": "2023-09-05T13:02:18.256996Z",
          "iopub.execute_input": "2023-09-05T13:02:18.257363Z",
          "iopub.status.idle": "2023-09-05T13:02:18.266260Z",
          "shell.execute_reply.started": "2023-09-05T13:02:18.257337Z",
          "shell.execute_reply": "2023-09-05T13:02:18.265284Z"
        },
        "trusted": true,
        "colab": {
          "base_uri": "https://localhost:8080/"
        },
        "id": "agMSLp9YYjPg",
        "outputId": "558c3364-ad81-4f73-b35a-187e32faa4b7"
      },
      "execution_count": 48,
      "outputs": [
        {
          "output_type": "execute_result",
          "data": {
            "text/plain": [
              "Index(['Gender_Male', 'Location_Houston', 'Location_Los Angeles',\n",
              "       'Location_Miami', 'Location_New York', 'Age',\n",
              "       'Subscription_Length_Months', 'Monthly_Bill', 'Total_Usage_GB',\n",
              "       'Churn'],\n",
              "      dtype='object')"
            ]
          },
          "metadata": {},
          "execution_count": 48
        }
      ]
    },
    {
      "cell_type": "markdown",
      "source": [
        "# Model Selection"
      ],
      "metadata": {
        "id": "fiM4FqjFYjPg"
      }
    },
    {
      "cell_type": "code",
      "source": [
        "sample_fraction = 0.4\n",
        "sample_data = df_combined.sample(frac=sample_fraction, random_state=42)"
      ],
      "metadata": {
        "execution": {
          "iopub.status.busy": "2023-09-05T13:02:18.267928Z",
          "iopub.execute_input": "2023-09-05T13:02:18.268320Z",
          "iopub.status.idle": "2023-09-05T13:02:18.282817Z",
          "shell.execute_reply.started": "2023-09-05T13:02:18.268286Z",
          "shell.execute_reply": "2023-09-05T13:02:18.281920Z"
        },
        "trusted": true,
        "id": "mwvXeapqYjPg"
      },
      "execution_count": 49,
      "outputs": []
    },
    {
      "cell_type": "markdown",
      "source": [
        "The reason for using a sample fraction of 0.4 and creating a subsample (`sample_data`) with a random seed of 42 is to reduce the dataset size for faster experimentation and model development, while still maintaining a representative portion of the original data for analysis and training."
      ],
      "metadata": {
        "id": "cb_PlA7MYjPg"
      }
    },
    {
      "cell_type": "code",
      "source": [
        "sample_data.head(10)"
      ],
      "metadata": {
        "execution": {
          "iopub.status.busy": "2023-09-05T13:02:18.285789Z",
          "iopub.execute_input": "2023-09-05T13:02:18.286033Z",
          "iopub.status.idle": "2023-09-05T13:02:18.312255Z",
          "shell.execute_reply.started": "2023-09-05T13:02:18.286010Z",
          "shell.execute_reply": "2023-09-05T13:02:18.311281Z"
        },
        "trusted": true,
        "colab": {
          "base_uri": "https://localhost:8080/",
          "height": 380
        },
        "id": "AJz_CUoxYjPg",
        "outputId": "fbd04e4e-d486-4ab7-a54c-be7ba9e219a2"
      },
      "execution_count": 50,
      "outputs": [
        {
          "output_type": "execute_result",
          "data": {
            "text/plain": [
              "       Gender_Male  Location_Houston  Location_Los Angeles  Location_Miami  \\\n",
              "75721          0.0               1.0                   0.0             0.0   \n",
              "80184          1.0               0.0                   0.0             0.0   \n",
              "19864          0.0               0.0                   1.0             0.0   \n",
              "76699          1.0               0.0                   0.0             0.0   \n",
              "92991          0.0               0.0                   1.0             0.0   \n",
              "76434          0.0               0.0                   0.0             1.0   \n",
              "84004          0.0               0.0                   1.0             0.0   \n",
              "80917          1.0               0.0                   0.0             0.0   \n",
              "60767          1.0               0.0                   0.0             1.0   \n",
              "50074          1.0               0.0                   0.0             1.0   \n",
              "\n",
              "       Location_New York       Age  Subscription_Length_Months  Monthly_Bill  \\\n",
              "75721                0.0  0.576923                    0.434783      0.835429   \n",
              "80184                1.0  0.596154                    0.521739      0.151571   \n",
              "19864                0.0  0.250000                    0.173913      0.043000   \n",
              "76699                1.0  0.673077                    0.130435      0.923714   \n",
              "92991                0.0  0.096154                    1.000000      0.745857   \n",
              "76434                0.0  0.173077                    0.652174      0.789429   \n",
              "84004                0.0  0.115385                    0.391304      0.478429   \n",
              "80917                1.0  0.980769                    0.478261      0.762571   \n",
              "60767                0.0  0.288462                    0.869565      0.140429   \n",
              "50074                0.0  0.923077                    0.478261      0.708143   \n",
              "\n",
              "       Total_Usage_GB  Churn  \n",
              "75721        0.982222    0.0  \n",
              "80184        0.828889    0.0  \n",
              "19864        0.502222    0.0  \n",
              "76699        0.642222    1.0  \n",
              "92991        0.564444    0.0  \n",
              "76434        0.222222    1.0  \n",
              "84004        0.340000    0.0  \n",
              "80917        0.013333    0.0  \n",
              "60767        0.786667    0.0  \n",
              "50074        0.764444    1.0  "
            ],
            "text/html": [
              "\n",
              "  <div id=\"df-c8f89311-6fe6-4355-ab8d-50601ba629ea\" class=\"colab-df-container\">\n",
              "    <div>\n",
              "<style scoped>\n",
              "    .dataframe tbody tr th:only-of-type {\n",
              "        vertical-align: middle;\n",
              "    }\n",
              "\n",
              "    .dataframe tbody tr th {\n",
              "        vertical-align: top;\n",
              "    }\n",
              "\n",
              "    .dataframe thead th {\n",
              "        text-align: right;\n",
              "    }\n",
              "</style>\n",
              "<table border=\"1\" class=\"dataframe\">\n",
              "  <thead>\n",
              "    <tr style=\"text-align: right;\">\n",
              "      <th></th>\n",
              "      <th>Gender_Male</th>\n",
              "      <th>Location_Houston</th>\n",
              "      <th>Location_Los Angeles</th>\n",
              "      <th>Location_Miami</th>\n",
              "      <th>Location_New York</th>\n",
              "      <th>Age</th>\n",
              "      <th>Subscription_Length_Months</th>\n",
              "      <th>Monthly_Bill</th>\n",
              "      <th>Total_Usage_GB</th>\n",
              "      <th>Churn</th>\n",
              "    </tr>\n",
              "  </thead>\n",
              "  <tbody>\n",
              "    <tr>\n",
              "      <th>75721</th>\n",
              "      <td>0.0</td>\n",
              "      <td>1.0</td>\n",
              "      <td>0.0</td>\n",
              "      <td>0.0</td>\n",
              "      <td>0.0</td>\n",
              "      <td>0.576923</td>\n",
              "      <td>0.434783</td>\n",
              "      <td>0.835429</td>\n",
              "      <td>0.982222</td>\n",
              "      <td>0.0</td>\n",
              "    </tr>\n",
              "    <tr>\n",
              "      <th>80184</th>\n",
              "      <td>1.0</td>\n",
              "      <td>0.0</td>\n",
              "      <td>0.0</td>\n",
              "      <td>0.0</td>\n",
              "      <td>1.0</td>\n",
              "      <td>0.596154</td>\n",
              "      <td>0.521739</td>\n",
              "      <td>0.151571</td>\n",
              "      <td>0.828889</td>\n",
              "      <td>0.0</td>\n",
              "    </tr>\n",
              "    <tr>\n",
              "      <th>19864</th>\n",
              "      <td>0.0</td>\n",
              "      <td>0.0</td>\n",
              "      <td>1.0</td>\n",
              "      <td>0.0</td>\n",
              "      <td>0.0</td>\n",
              "      <td>0.250000</td>\n",
              "      <td>0.173913</td>\n",
              "      <td>0.043000</td>\n",
              "      <td>0.502222</td>\n",
              "      <td>0.0</td>\n",
              "    </tr>\n",
              "    <tr>\n",
              "      <th>76699</th>\n",
              "      <td>1.0</td>\n",
              "      <td>0.0</td>\n",
              "      <td>0.0</td>\n",
              "      <td>0.0</td>\n",
              "      <td>1.0</td>\n",
              "      <td>0.673077</td>\n",
              "      <td>0.130435</td>\n",
              "      <td>0.923714</td>\n",
              "      <td>0.642222</td>\n",
              "      <td>1.0</td>\n",
              "    </tr>\n",
              "    <tr>\n",
              "      <th>92991</th>\n",
              "      <td>0.0</td>\n",
              "      <td>0.0</td>\n",
              "      <td>1.0</td>\n",
              "      <td>0.0</td>\n",
              "      <td>0.0</td>\n",
              "      <td>0.096154</td>\n",
              "      <td>1.000000</td>\n",
              "      <td>0.745857</td>\n",
              "      <td>0.564444</td>\n",
              "      <td>0.0</td>\n",
              "    </tr>\n",
              "    <tr>\n",
              "      <th>76434</th>\n",
              "      <td>0.0</td>\n",
              "      <td>0.0</td>\n",
              "      <td>0.0</td>\n",
              "      <td>1.0</td>\n",
              "      <td>0.0</td>\n",
              "      <td>0.173077</td>\n",
              "      <td>0.652174</td>\n",
              "      <td>0.789429</td>\n",
              "      <td>0.222222</td>\n",
              "      <td>1.0</td>\n",
              "    </tr>\n",
              "    <tr>\n",
              "      <th>84004</th>\n",
              "      <td>0.0</td>\n",
              "      <td>0.0</td>\n",
              "      <td>1.0</td>\n",
              "      <td>0.0</td>\n",
              "      <td>0.0</td>\n",
              "      <td>0.115385</td>\n",
              "      <td>0.391304</td>\n",
              "      <td>0.478429</td>\n",
              "      <td>0.340000</td>\n",
              "      <td>0.0</td>\n",
              "    </tr>\n",
              "    <tr>\n",
              "      <th>80917</th>\n",
              "      <td>1.0</td>\n",
              "      <td>0.0</td>\n",
              "      <td>0.0</td>\n",
              "      <td>0.0</td>\n",
              "      <td>1.0</td>\n",
              "      <td>0.980769</td>\n",
              "      <td>0.478261</td>\n",
              "      <td>0.762571</td>\n",
              "      <td>0.013333</td>\n",
              "      <td>0.0</td>\n",
              "    </tr>\n",
              "    <tr>\n",
              "      <th>60767</th>\n",
              "      <td>1.0</td>\n",
              "      <td>0.0</td>\n",
              "      <td>0.0</td>\n",
              "      <td>1.0</td>\n",
              "      <td>0.0</td>\n",
              "      <td>0.288462</td>\n",
              "      <td>0.869565</td>\n",
              "      <td>0.140429</td>\n",
              "      <td>0.786667</td>\n",
              "      <td>0.0</td>\n",
              "    </tr>\n",
              "    <tr>\n",
              "      <th>50074</th>\n",
              "      <td>1.0</td>\n",
              "      <td>0.0</td>\n",
              "      <td>0.0</td>\n",
              "      <td>1.0</td>\n",
              "      <td>0.0</td>\n",
              "      <td>0.923077</td>\n",
              "      <td>0.478261</td>\n",
              "      <td>0.708143</td>\n",
              "      <td>0.764444</td>\n",
              "      <td>1.0</td>\n",
              "    </tr>\n",
              "  </tbody>\n",
              "</table>\n",
              "</div>\n",
              "    <div class=\"colab-df-buttons\">\n",
              "\n",
              "  <div class=\"colab-df-container\">\n",
              "    <button class=\"colab-df-convert\" onclick=\"convertToInteractive('df-c8f89311-6fe6-4355-ab8d-50601ba629ea')\"\n",
              "            title=\"Convert this dataframe to an interactive table.\"\n",
              "            style=\"display:none;\">\n",
              "\n",
              "  <svg xmlns=\"http://www.w3.org/2000/svg\" height=\"24px\" viewBox=\"0 -960 960 960\">\n",
              "    <path d=\"M120-120v-720h720v720H120Zm60-500h600v-160H180v160Zm220 220h160v-160H400v160Zm0 220h160v-160H400v160ZM180-400h160v-160H180v160Zm440 0h160v-160H620v160ZM180-180h160v-160H180v160Zm440 0h160v-160H620v160Z\"/>\n",
              "  </svg>\n",
              "    </button>\n",
              "\n",
              "  <style>\n",
              "    .colab-df-container {\n",
              "      display:flex;\n",
              "      gap: 12px;\n",
              "    }\n",
              "\n",
              "    .colab-df-convert {\n",
              "      background-color: #E8F0FE;\n",
              "      border: none;\n",
              "      border-radius: 50%;\n",
              "      cursor: pointer;\n",
              "      display: none;\n",
              "      fill: #1967D2;\n",
              "      height: 32px;\n",
              "      padding: 0 0 0 0;\n",
              "      width: 32px;\n",
              "    }\n",
              "\n",
              "    .colab-df-convert:hover {\n",
              "      background-color: #E2EBFA;\n",
              "      box-shadow: 0px 1px 2px rgba(60, 64, 67, 0.3), 0px 1px 3px 1px rgba(60, 64, 67, 0.15);\n",
              "      fill: #174EA6;\n",
              "    }\n",
              "\n",
              "    .colab-df-buttons div {\n",
              "      margin-bottom: 4px;\n",
              "    }\n",
              "\n",
              "    [theme=dark] .colab-df-convert {\n",
              "      background-color: #3B4455;\n",
              "      fill: #D2E3FC;\n",
              "    }\n",
              "\n",
              "    [theme=dark] .colab-df-convert:hover {\n",
              "      background-color: #434B5C;\n",
              "      box-shadow: 0px 1px 3px 1px rgba(0, 0, 0, 0.15);\n",
              "      filter: drop-shadow(0px 1px 2px rgba(0, 0, 0, 0.3));\n",
              "      fill: #FFFFFF;\n",
              "    }\n",
              "  </style>\n",
              "\n",
              "    <script>\n",
              "      const buttonEl =\n",
              "        document.querySelector('#df-c8f89311-6fe6-4355-ab8d-50601ba629ea button.colab-df-convert');\n",
              "      buttonEl.style.display =\n",
              "        google.colab.kernel.accessAllowed ? 'block' : 'none';\n",
              "\n",
              "      async function convertToInteractive(key) {\n",
              "        const element = document.querySelector('#df-c8f89311-6fe6-4355-ab8d-50601ba629ea');\n",
              "        const dataTable =\n",
              "          await google.colab.kernel.invokeFunction('convertToInteractive',\n",
              "                                                    [key], {});\n",
              "        if (!dataTable) return;\n",
              "\n",
              "        const docLinkHtml = 'Like what you see? Visit the ' +\n",
              "          '<a target=\"_blank\" href=https://colab.research.google.com/notebooks/data_table.ipynb>data table notebook</a>'\n",
              "          + ' to learn more about interactive tables.';\n",
              "        element.innerHTML = '';\n",
              "        dataTable['output_type'] = 'display_data';\n",
              "        await google.colab.output.renderOutput(dataTable, element);\n",
              "        const docLink = document.createElement('div');\n",
              "        docLink.innerHTML = docLinkHtml;\n",
              "        element.appendChild(docLink);\n",
              "      }\n",
              "    </script>\n",
              "  </div>\n",
              "\n",
              "\n",
              "<div id=\"df-38ac993f-1636-4ac6-b77a-4eaf695c7741\">\n",
              "  <button class=\"colab-df-quickchart\" onclick=\"quickchart('df-38ac993f-1636-4ac6-b77a-4eaf695c7741')\"\n",
              "            title=\"Suggest charts.\"\n",
              "            style=\"display:none;\">\n",
              "\n",
              "<svg xmlns=\"http://www.w3.org/2000/svg\" height=\"24px\"viewBox=\"0 0 24 24\"\n",
              "     width=\"24px\">\n",
              "    <g>\n",
              "        <path d=\"M19 3H5c-1.1 0-2 .9-2 2v14c0 1.1.9 2 2 2h14c1.1 0 2-.9 2-2V5c0-1.1-.9-2-2-2zM9 17H7v-7h2v7zm4 0h-2V7h2v10zm4 0h-2v-4h2v4z\"/>\n",
              "    </g>\n",
              "</svg>\n",
              "  </button>\n",
              "\n",
              "<style>\n",
              "  .colab-df-quickchart {\n",
              "      --bg-color: #E8F0FE;\n",
              "      --fill-color: #1967D2;\n",
              "      --hover-bg-color: #E2EBFA;\n",
              "      --hover-fill-color: #174EA6;\n",
              "      --disabled-fill-color: #AAA;\n",
              "      --disabled-bg-color: #DDD;\n",
              "  }\n",
              "\n",
              "  [theme=dark] .colab-df-quickchart {\n",
              "      --bg-color: #3B4455;\n",
              "      --fill-color: #D2E3FC;\n",
              "      --hover-bg-color: #434B5C;\n",
              "      --hover-fill-color: #FFFFFF;\n",
              "      --disabled-bg-color: #3B4455;\n",
              "      --disabled-fill-color: #666;\n",
              "  }\n",
              "\n",
              "  .colab-df-quickchart {\n",
              "    background-color: var(--bg-color);\n",
              "    border: none;\n",
              "    border-radius: 50%;\n",
              "    cursor: pointer;\n",
              "    display: none;\n",
              "    fill: var(--fill-color);\n",
              "    height: 32px;\n",
              "    padding: 0;\n",
              "    width: 32px;\n",
              "  }\n",
              "\n",
              "  .colab-df-quickchart:hover {\n",
              "    background-color: var(--hover-bg-color);\n",
              "    box-shadow: 0 1px 2px rgba(60, 64, 67, 0.3), 0 1px 3px 1px rgba(60, 64, 67, 0.15);\n",
              "    fill: var(--button-hover-fill-color);\n",
              "  }\n",
              "\n",
              "  .colab-df-quickchart-complete:disabled,\n",
              "  .colab-df-quickchart-complete:disabled:hover {\n",
              "    background-color: var(--disabled-bg-color);\n",
              "    fill: var(--disabled-fill-color);\n",
              "    box-shadow: none;\n",
              "  }\n",
              "\n",
              "  .colab-df-spinner {\n",
              "    border: 2px solid var(--fill-color);\n",
              "    border-color: transparent;\n",
              "    border-bottom-color: var(--fill-color);\n",
              "    animation:\n",
              "      spin 1s steps(1) infinite;\n",
              "  }\n",
              "\n",
              "  @keyframes spin {\n",
              "    0% {\n",
              "      border-color: transparent;\n",
              "      border-bottom-color: var(--fill-color);\n",
              "      border-left-color: var(--fill-color);\n",
              "    }\n",
              "    20% {\n",
              "      border-color: transparent;\n",
              "      border-left-color: var(--fill-color);\n",
              "      border-top-color: var(--fill-color);\n",
              "    }\n",
              "    30% {\n",
              "      border-color: transparent;\n",
              "      border-left-color: var(--fill-color);\n",
              "      border-top-color: var(--fill-color);\n",
              "      border-right-color: var(--fill-color);\n",
              "    }\n",
              "    40% {\n",
              "      border-color: transparent;\n",
              "      border-right-color: var(--fill-color);\n",
              "      border-top-color: var(--fill-color);\n",
              "    }\n",
              "    60% {\n",
              "      border-color: transparent;\n",
              "      border-right-color: var(--fill-color);\n",
              "    }\n",
              "    80% {\n",
              "      border-color: transparent;\n",
              "      border-right-color: var(--fill-color);\n",
              "      border-bottom-color: var(--fill-color);\n",
              "    }\n",
              "    90% {\n",
              "      border-color: transparent;\n",
              "      border-bottom-color: var(--fill-color);\n",
              "    }\n",
              "  }\n",
              "</style>\n",
              "\n",
              "  <script>\n",
              "    async function quickchart(key) {\n",
              "      const quickchartButtonEl =\n",
              "        document.querySelector('#' + key + ' button');\n",
              "      quickchartButtonEl.disabled = true;  // To prevent multiple clicks.\n",
              "      quickchartButtonEl.classList.add('colab-df-spinner');\n",
              "      try {\n",
              "        const charts = await google.colab.kernel.invokeFunction(\n",
              "            'suggestCharts', [key], {});\n",
              "      } catch (error) {\n",
              "        console.error('Error during call to suggestCharts:', error);\n",
              "      }\n",
              "      quickchartButtonEl.classList.remove('colab-df-spinner');\n",
              "      quickchartButtonEl.classList.add('colab-df-quickchart-complete');\n",
              "    }\n",
              "    (() => {\n",
              "      let quickchartButtonEl =\n",
              "        document.querySelector('#df-38ac993f-1636-4ac6-b77a-4eaf695c7741 button');\n",
              "      quickchartButtonEl.style.display =\n",
              "        google.colab.kernel.accessAllowed ? 'block' : 'none';\n",
              "    })();\n",
              "  </script>\n",
              "</div>\n",
              "    </div>\n",
              "  </div>\n"
            ]
          },
          "metadata": {},
          "execution_count": 50
        }
      ]
    },
    {
      "cell_type": "code",
      "source": [
        "X = sample_data.drop(['Churn'],axis=1)  # Features\n",
        "y = sample_data['Churn']  # Target variable\n",
        "\n",
        "X_train, X_test, y_train, y_test = train_test_split(X, y, test_size=0.2, random_state=42)\n",
        "\n",
        "print(\"X_train shape:\", X_train.shape)\n",
        "print(\"X_test shape:\", X_test.shape)\n",
        "print(\"y_train shape:\", y_train.shape)\n",
        "print(\"y_test shape:\", y_test.shape)"
      ],
      "metadata": {
        "execution": {
          "iopub.status.busy": "2023-09-05T13:02:18.313839Z",
          "iopub.execute_input": "2023-09-05T13:02:18.314282Z",
          "iopub.status.idle": "2023-09-05T13:02:18.333048Z",
          "shell.execute_reply.started": "2023-09-05T13:02:18.314249Z",
          "shell.execute_reply": "2023-09-05T13:02:18.331912Z"
        },
        "trusted": true,
        "colab": {
          "base_uri": "https://localhost:8080/"
        },
        "id": "qMs8dIl6YjPg",
        "outputId": "35796111-7b50-46e5-ac25-6069b7da3155"
      },
      "execution_count": 51,
      "outputs": [
        {
          "output_type": "stream",
          "name": "stdout",
          "text": [
            "X_train shape: (32000, 9)\n",
            "X_test shape: (8000, 9)\n",
            "y_train shape: (32000,)\n",
            "y_test shape: (8000,)\n"
          ]
        }
      ]
    },
    {
      "cell_type": "markdown",
      "source": [
        "<h3>Using Standard ML Algos</h3>"
      ],
      "metadata": {
        "id": "0uKScfGhYjPh"
      }
    },
    {
      "cell_type": "code",
      "source": [
        "models = [\n",
        "    ('Logistic Regression', LogisticRegression(max_iter=1000)),\n",
        "    ('Random Forest', RandomForestClassifier()),\n",
        "    ('Gradient Boosting', GradientBoostingClassifier()),\n",
        "    ('Support Vector Machine', SVC()),\n",
        "    ('K-Nearest Neighbors', KNeighborsClassifier())\n",
        "]"
      ],
      "metadata": {
        "execution": {
          "iopub.status.busy": "2023-09-05T13:02:18.334701Z",
          "iopub.execute_input": "2023-09-05T13:02:18.335657Z",
          "iopub.status.idle": "2023-09-05T13:02:18.341848Z",
          "shell.execute_reply.started": "2023-09-05T13:02:18.335623Z",
          "shell.execute_reply": "2023-09-05T13:02:18.340901Z"
        },
        "trusted": true,
        "id": "sZKtamc0YjPh"
      },
      "execution_count": 52,
      "outputs": []
    },
    {
      "cell_type": "code",
      "source": [
        "results = []\n",
        "model_names = []\n",
        "\n",
        "for name, model in models:\n",
        "    cv_scores = cross_val_score(model, X_train, y_train, cv=5, scoring='accuracy')\n",
        "    results.append(cv_scores.mean())\n",
        "    model_names.append(name)\n",
        "\n",
        "    # Fit the model to the training data\n",
        "    model.fit(X_train, y_train)\n",
        "\n",
        "    # Evaluate the model on the test data\n",
        "    y_pred_ml = model.predict(X_test)\n",
        "\n",
        "    accuracy_ml = accuracy_score(y_test, y_pred_ml)\n",
        "    precision_ml = precision_score(y_test, y_pred_ml)\n",
        "    recall_ml = recall_score(y_test, y_pred_ml)\n",
        "    f1_score_ml = f1_score(y_test, y_pred_ml)\n",
        "\n",
        "    print(f\"Model: {name}\")\n",
        "    print(f\"Accuracy: {accuracy_ml:.4f}\")\n",
        "    print(f\"Precision: {precision_ml:.4f}\")\n",
        "    print(f\"Recall: {recall_ml:.4f}\")\n",
        "    print(f\"F1-Score: {f1_score_ml:.4f}\")\n",
        "\n",
        "    print(\"\\nClassification Report:\")\n",
        "    print(classification_report(y_test, y_pred_ml))"
      ],
      "metadata": {
        "execution": {
          "iopub.status.busy": "2023-09-05T13:02:18.343151Z",
          "iopub.execute_input": "2023-09-05T13:02:18.344043Z",
          "iopub.status.idle": "2023-09-05T13:06:37.789050Z",
          "shell.execute_reply.started": "2023-09-05T13:02:18.343903Z",
          "shell.execute_reply": "2023-09-05T13:06:37.787991Z"
        },
        "trusted": true,
        "colab": {
          "base_uri": "https://localhost:8080/"
        },
        "id": "KixrkPGfYjPh",
        "outputId": "5166115f-eb38-4ed8-fc13-defd3a18a092"
      },
      "execution_count": 53,
      "outputs": [
        {
          "output_type": "stream",
          "name": "stdout",
          "text": [
            "Model: Logistic Regression\n",
            "Accuracy: 0.5071\n",
            "Precision: 0.5053\n",
            "Recall: 0.4805\n",
            "F1-Score: 0.4926\n",
            "\n",
            "Classification Report:\n",
            "              precision    recall  f1-score   support\n",
            "\n",
            "         0.0       0.51      0.53      0.52      4017\n",
            "         1.0       0.51      0.48      0.49      3983\n",
            "\n",
            "    accuracy                           0.51      8000\n",
            "   macro avg       0.51      0.51      0.51      8000\n",
            "weighted avg       0.51      0.51      0.51      8000\n",
            "\n",
            "Model: Random Forest\n",
            "Accuracy: 0.5025\n",
            "Precision: 0.5004\n",
            "Recall: 0.4720\n",
            "F1-Score: 0.4858\n",
            "\n",
            "Classification Report:\n",
            "              precision    recall  f1-score   support\n",
            "\n",
            "         0.0       0.50      0.53      0.52      4017\n",
            "         1.0       0.50      0.47      0.49      3983\n",
            "\n",
            "    accuracy                           0.50      8000\n",
            "   macro avg       0.50      0.50      0.50      8000\n",
            "weighted avg       0.50      0.50      0.50      8000\n",
            "\n",
            "Model: Gradient Boosting\n",
            "Accuracy: 0.5024\n",
            "Precision: 0.5003\n",
            "Recall: 0.4406\n",
            "F1-Score: 0.4686\n",
            "\n",
            "Classification Report:\n",
            "              precision    recall  f1-score   support\n",
            "\n",
            "         0.0       0.50      0.56      0.53      4017\n",
            "         1.0       0.50      0.44      0.47      3983\n",
            "\n",
            "    accuracy                           0.50      8000\n",
            "   macro avg       0.50      0.50      0.50      8000\n",
            "weighted avg       0.50      0.50      0.50      8000\n",
            "\n",
            "Model: Support Vector Machine\n",
            "Accuracy: 0.5042\n",
            "Precision: 0.5026\n",
            "Recall: 0.4112\n",
            "F1-Score: 0.4524\n",
            "\n",
            "Classification Report:\n",
            "              precision    recall  f1-score   support\n",
            "\n",
            "         0.0       0.51      0.60      0.55      4017\n",
            "         1.0       0.50      0.41      0.45      3983\n",
            "\n",
            "    accuracy                           0.50      8000\n",
            "   macro avg       0.50      0.50      0.50      8000\n",
            "weighted avg       0.50      0.50      0.50      8000\n",
            "\n",
            "Model: K-Nearest Neighbors\n",
            "Accuracy: 0.5026\n",
            "Precision: 0.5005\n",
            "Recall: 0.4964\n",
            "F1-Score: 0.4984\n",
            "\n",
            "Classification Report:\n",
            "              precision    recall  f1-score   support\n",
            "\n",
            "         0.0       0.50      0.51      0.51      4017\n",
            "         1.0       0.50      0.50      0.50      3983\n",
            "\n",
            "    accuracy                           0.50      8000\n",
            "   macro avg       0.50      0.50      0.50      8000\n",
            "weighted avg       0.50      0.50      0.50      8000\n",
            "\n"
          ]
        }
      ]
    },
    {
      "cell_type": "code",
      "source": [
        "best_model_idx = results.index(max(results))\n",
        "best_model = models[best_model_idx][0]\n",
        "best_accuracy = results[best_model_idx]"
      ],
      "metadata": {
        "_kg_hide-output": false,
        "execution": {
          "iopub.status.busy": "2023-09-05T13:06:37.790697Z",
          "iopub.execute_input": "2023-09-05T13:06:37.791367Z",
          "iopub.status.idle": "2023-09-05T13:06:37.797296Z",
          "shell.execute_reply.started": "2023-09-05T13:06:37.791328Z",
          "shell.execute_reply": "2023-09-05T13:06:37.796206Z"
        },
        "trusted": true,
        "id": "qIbj2_reYjPh"
      },
      "execution_count": 54,
      "outputs": []
    },
    {
      "cell_type": "code",
      "source": [
        "print(\"Model with the highest accuracy:\", best_model)\n",
        "print(\"Accuracy:\", best_accuracy)"
      ],
      "metadata": {
        "execution": {
          "iopub.status.busy": "2023-09-05T13:06:37.799143Z",
          "iopub.execute_input": "2023-09-05T13:06:37.799512Z",
          "iopub.status.idle": "2023-09-05T13:06:37.814638Z",
          "shell.execute_reply.started": "2023-09-05T13:06:37.799480Z",
          "shell.execute_reply": "2023-09-05T13:06:37.813677Z"
        },
        "trusted": true,
        "colab": {
          "base_uri": "https://localhost:8080/"
        },
        "id": "G33h3bXDYjPh",
        "outputId": "8c4a42cd-adb0-4f05-b6d3-63bfe61c317b"
      },
      "execution_count": 55,
      "outputs": [
        {
          "output_type": "stream",
          "name": "stdout",
          "text": [
            "Model with the highest accuracy: Logistic Regression\n",
            "Accuracy: 0.506\n"
          ]
        }
      ]
    },
    {
      "cell_type": "code",
      "source": [
        "plt.figure(figsize=(10, 6))\n",
        "plt.barh(model_names, results, color='skyblue')\n",
        "plt.xlabel('Accuracy')\n",
        "plt.title('Model Comparison')\n",
        "plt.xlim(0, 1.0)\n",
        "plt.gca().invert_yaxis()\n",
        "\n",
        "for i, v in enumerate(results):\n",
        "    plt.text(v, i, f'{v:.6f}', va='center', fontsize=12, color='black', fontweight='bold')\n",
        "\n",
        "plt.show()"
      ],
      "metadata": {
        "_kg_hide-output": false,
        "execution": {
          "iopub.status.busy": "2023-09-05T13:06:37.815919Z",
          "iopub.execute_input": "2023-09-05T13:06:37.817449Z",
          "iopub.status.idle": "2023-09-05T13:06:38.084149Z",
          "shell.execute_reply.started": "2023-09-05T13:06:37.817400Z",
          "shell.execute_reply": "2023-09-05T13:06:38.083201Z"
        },
        "trusted": true,
        "colab": {
          "base_uri": "https://localhost:8080/",
          "height": 564
        },
        "id": "ZbjM2v61YjPi",
        "outputId": "c3ab3bb6-fcdb-41d5-bdbc-879661dab273"
      },
      "execution_count": 56,
      "outputs": [
        {
          "output_type": "display_data",
          "data": {
            "text/plain": [
              "<Figure size 1000x600 with 1 Axes>"
            ],
            "image/png": "[encoded data removed]"
          },
          "metadata": {}
        }
      ]
    },
    {
      "cell_type": "markdown",
      "source": [
        "The summary of the model performance indicates that the following machine learning models, when applied to the dataset, achieved similar accuracy levels of approximately 50%. Among these models, Logistic Regression slightly outperformed the others in terms of accuracy:\n",
        "\n",
        "- Logistic Regression (max_iter=1000)\n",
        "- Random Forest\n",
        "- Gradient Boosting\n",
        "- Support Vector Machine (SVC)\n",
        "- K-Nearest Neighbors\n",
        "\n",
        "**While all models exhibited a similar level of accuracy, Logistic Regression demonstrated a slightly higher accuracy compared to the other models.**"
      ],
      "metadata": {
        "id": "3pohMTR-YjPi"
      }
    },
    {
      "cell_type": "markdown",
      "source": [
        "<h3>Using Neural Network</h3>"
      ],
      "metadata": {
        "id": "n0GpnyIsYjPi"
      }
    },
    {
      "cell_type": "code",
      "source": [
        "X = df_combined.drop(['Churn'],axis=1)  # Features\n",
        "y = df_combined['Churn']  # Target variable\n",
        "\n",
        "X_train, X_test, y_train, y_test = train_test_split(X, y, test_size=0.2, random_state=42)\n",
        "\n",
        "print(\"X_train shape:\", X_train.shape)\n",
        "print(\"X_test shape:\", X_test.shape)\n",
        "print(\"y_train shape:\", y_train.shape)\n",
        "print(\"y_test shape:\", y_test.shape)"
      ],
      "metadata": {
        "execution": {
          "iopub.status.busy": "2023-09-05T13:06:38.085432Z",
          "iopub.execute_input": "2023-09-05T13:06:38.085792Z",
          "iopub.status.idle": "2023-09-05T13:06:38.109628Z",
          "shell.execute_reply.started": "2023-09-05T13:06:38.085757Z",
          "shell.execute_reply": "2023-09-05T13:06:38.108688Z"
        },
        "trusted": true,
        "colab": {
          "base_uri": "https://localhost:8080/"
        },
        "id": "GUxuODEZYjPi",
        "outputId": "b26e7705-b91a-45bd-8530-3fd45e8f38c7"
      },
      "execution_count": 57,
      "outputs": [
        {
          "output_type": "stream",
          "name": "stdout",
          "text": [
            "X_train shape: (80000, 9)\n",
            "X_test shape: (20000, 9)\n",
            "y_train shape: (80000,)\n",
            "y_test shape: (20000,)\n"
          ]
        }
      ]
    },
    {
      "cell_type": "code",
      "source": [
        "def lr_schedule(epoch):\n",
        "    '''\n",
        "    Function to adjust the learning rate during training based on the epoch number.\n",
        "    '''\n",
        "    if epoch < 10:\n",
        "        return 0.001\n",
        "    else:\n",
        "        return 0.0001"
      ],
      "metadata": {
        "execution": {
          "iopub.status.busy": "2023-09-05T13:06:38.110918Z",
          "iopub.execute_input": "2023-09-05T13:06:38.111349Z",
          "iopub.status.idle": "2023-09-05T13:06:38.117099Z",
          "shell.execute_reply.started": "2023-09-05T13:06:38.111315Z",
          "shell.execute_reply": "2023-09-05T13:06:38.116191Z"
        },
        "trusted": true,
        "id": "LNAL55YaYjPi"
      },
      "execution_count": 58,
      "outputs": []
    },
    {
      "cell_type": "code",
      "source": [
        "model = keras.Sequential([\n",
        "    keras.layers.Input(shape=(X_train.shape[1],)),\n",
        "\n",
        "    # Hidden Layer 1\n",
        "    Dense(512, activation='relu', kernel_initializer=he_normal()),\n",
        "    BatchNormalization(),\n",
        "    Dropout(0.5),\n",
        "\n",
        "    # Hidden Layer 2\n",
        "    Dense(256, activation='relu', kernel_initializer=he_normal()),\n",
        "    BatchNormalization(),\n",
        "    Dropout(0.5),\n",
        "\n",
        "    # Hidden Layer 3\n",
        "    Dense(128, activation='relu', kernel_initializer=he_normal()),\n",
        "    BatchNormalization(),\n",
        "    Dropout(0.5),\n",
        "\n",
        "    # Hidden Layer 4\n",
        "    Dense(64, activation='relu', kernel_initializer=he_normal()),\n",
        "    BatchNormalization(),\n",
        "    Dropout(0.5),\n",
        "\n",
        "    # Output Layer\n",
        "    Dense(1, activation='sigmoid')\n",
        "])"
      ],
      "metadata": {
        "execution": {
          "iopub.status.busy": "2023-09-05T13:06:38.118534Z",
          "iopub.execute_input": "2023-09-05T13:06:38.119158Z",
          "iopub.status.idle": "2023-09-05T13:06:38.255184Z",
          "shell.execute_reply.started": "2023-09-05T13:06:38.119123Z",
          "shell.execute_reply": "2023-09-05T13:06:38.254260Z"
        },
        "trusted": true,
        "id": "McovhMF0YjPj"
      },
      "execution_count": 59,
      "outputs": []
    },
    {
      "cell_type": "markdown",
      "source": [
        "The provided network architecture is a deep feedforward neural network with multiple hidden layers. It utilizes ReLU activation functions and He normal initialization for its neurons. Batch normalization layers to help stabilize training and Dropout layers are incorporated to mitigate overfitting. The network's final layer employs a sigmoid activation function for binary classification tasks."
      ],
      "metadata": {
        "id": "SQs_OczuYjPj"
      }
    },
    {
      "cell_type": "code",
      "source": [
        "custom_optimizer = keras.optimizers.Adam(learning_rate=0.001)\n",
        "model.compile(optimizer=custom_optimizer, loss='binary_crossentropy', metrics=['accuracy'])"
      ],
      "metadata": {
        "execution": {
          "iopub.status.busy": "2023-09-05T13:06:38.256613Z",
          "iopub.execute_input": "2023-09-05T13:06:38.256947Z",
          "iopub.status.idle": "2023-09-05T13:06:38.270255Z",
          "shell.execute_reply.started": "2023-09-05T13:06:38.256914Z",
          "shell.execute_reply": "2023-09-05T13:06:38.269268Z"
        },
        "trusted": true,
        "id": "IKAwFeyzYjPj"
      },
      "execution_count": 60,
      "outputs": []
    },
    {
      "cell_type": "code",
      "source": [
        "history = model.fit(\n",
        "    X_train,\n",
        "    y_train,\n",
        "    epochs=25,\n",
        "    batch_size=32,\n",
        "    validation_data=(X_test, y_test),\n",
        "    callbacks=[early_stopping, lr_scheduler],\n",
        "    verbose=2\n",
        ")"
      ],
      "metadata": {
        "execution": {
          "iopub.status.busy": "2023-09-05T13:06:38.288740Z",
          "iopub.execute_input": "2023-09-05T13:06:38.289040Z",
          "iopub.status.idle": "2023-09-05T13:09:41.117488Z",
          "shell.execute_reply.started": "2023-09-05T13:06:38.289015Z",
          "shell.execute_reply": "2023-09-05T13:09:41.116483Z"
        },
        "trusted": true,
        "colab": {
          "base_uri": "https://localhost:8080/"
        },
        "id": "GS6aAaqjYjPk",
        "outputId": "b5eb2dcc-f3e0-4bbb-b480-8cc1477cc57c"
      },
      "execution_count": 63,
      "outputs": [
        {
          "output_type": "stream",
          "name": "stdout",
          "text": [
            "Epoch 1/100\n",
            "2500/2500 - 20s - loss: 0.7250 - accuracy: 0.4987 - val_loss: 0.6936 - val_accuracy: 0.5002 - lr: 0.0010 - 20s/epoch - 8ms/step\n",
            "Epoch 2/100\n",
            "2500/2500 - 17s - loss: 0.6946 - accuracy: 0.5012 - val_loss: 0.6942 - val_accuracy: 0.5001 - lr: 0.0010 - 17s/epoch - 7ms/step\n",
            "Epoch 3/100\n",
            "2500/2500 - 19s - loss: 0.6947 - accuracy: 0.5015 - val_loss: 0.6937 - val_accuracy: 0.4979 - lr: 0.0010 - 19s/epoch - 8ms/step\n",
            "Epoch 4/100\n",
            "2500/2500 - 17s - loss: 0.6943 - accuracy: 0.5003 - val_loss: 0.6937 - val_accuracy: 0.5025 - lr: 0.0010 - 17s/epoch - 7ms/step\n",
            "Epoch 5/100\n",
            "2500/2500 - 17s - loss: 0.6942 - accuracy: 0.5021 - val_loss: 0.6935 - val_accuracy: 0.5074 - lr: 0.0010 - 17s/epoch - 7ms/step\n",
            "Epoch 6/100\n",
            "2500/2500 - 27s - loss: 0.6940 - accuracy: 0.5023 - val_loss: 0.6939 - val_accuracy: 0.4978 - lr: 0.0010 - 27s/epoch - 11ms/step\n",
            "Epoch 7/100\n",
            "2500/2500 - 19s - loss: 0.6940 - accuracy: 0.4987 - val_loss: 0.6938 - val_accuracy: 0.5001 - lr: 0.0010 - 19s/epoch - 8ms/step\n",
            "Epoch 8/100\n",
            "2500/2500 - 18s - loss: 0.6938 - accuracy: 0.5010 - val_loss: 0.6937 - val_accuracy: 0.4978 - lr: 0.0010 - 18s/epoch - 7ms/step\n",
            "Epoch 9/100\n",
            "2500/2500 - 18s - loss: 0.6935 - accuracy: 0.5050 - val_loss: 0.6933 - val_accuracy: 0.5027 - lr: 0.0010 - 18s/epoch - 7ms/step\n",
            "Epoch 10/100\n",
            "2500/2500 - 19s - loss: 0.6935 - accuracy: 0.5026 - val_loss: 0.6932 - val_accuracy: 0.5024 - lr: 0.0010 - 19s/epoch - 8ms/step\n",
            "Epoch 11/100\n",
            "2500/2500 - 17s - loss: 0.6934 - accuracy: 0.5035 - val_loss: 0.6932 - val_accuracy: 0.4966 - lr: 1.0000e-04 - 17s/epoch - 7ms/step\n",
            "Epoch 12/100\n",
            "2500/2500 - 18s - loss: 0.6932 - accuracy: 0.5056 - val_loss: 0.6932 - val_accuracy: 0.5023 - lr: 1.0000e-04 - 18s/epoch - 7ms/step\n",
            "Epoch 13/100\n",
            "2500/2500 - 23s - loss: 0.6931 - accuracy: 0.5045 - val_loss: 0.6932 - val_accuracy: 0.4994 - lr: 1.0000e-04 - 23s/epoch - 9ms/step\n",
            "Epoch 14/100\n",
            "2500/2500 - 25s - loss: 0.6932 - accuracy: 0.5027 - val_loss: 0.6932 - val_accuracy: 0.4994 - lr: 1.0000e-04 - 25s/epoch - 10ms/step\n",
            "Epoch 15/100\n",
            "2500/2500 - 24s - loss: 0.6931 - accuracy: 0.5055 - val_loss: 0.6932 - val_accuracy: 0.4982 - lr: 1.0000e-04 - 24s/epoch - 10ms/step\n",
            "Epoch 16/100\n",
            "2500/2500 - 23s - loss: 0.6931 - accuracy: 0.5061 - val_loss: 0.6932 - val_accuracy: 0.4997 - lr: 1.0000e-04 - 23s/epoch - 9ms/step\n",
            "Epoch 17/100\n",
            "2500/2500 - 24s - loss: 0.6930 - accuracy: 0.5066 - val_loss: 0.6933 - val_accuracy: 0.5013 - lr: 1.0000e-04 - 24s/epoch - 10ms/step\n",
            "Epoch 18/100\n",
            "2500/2500 - 17s - loss: 0.6931 - accuracy: 0.5074 - val_loss: 0.6933 - val_accuracy: 0.4971 - lr: 1.0000e-04 - 17s/epoch - 7ms/step\n",
            "Epoch 19/100\n",
            "2500/2500 - 19s - loss: 0.6931 - accuracy: 0.5050 - val_loss: 0.6933 - val_accuracy: 0.4988 - lr: 1.0000e-04 - 19s/epoch - 8ms/step\n",
            "Epoch 20/100\n",
            "2500/2500 - 18s - loss: 0.6931 - accuracy: 0.5046 - val_loss: 0.6933 - val_accuracy: 0.4997 - lr: 1.0000e-04 - 18s/epoch - 7ms/step\n",
            "Epoch 21/100\n",
            "2500/2500 - 26s - loss: 0.6930 - accuracy: 0.5064 - val_loss: 0.6933 - val_accuracy: 0.4983 - lr: 1.0000e-04 - 26s/epoch - 10ms/step\n",
            "Epoch 22/100\n",
            "2500/2500 - 26s - loss: 0.6930 - accuracy: 0.5059 - val_loss: 0.6933 - val_accuracy: 0.4976 - lr: 1.0000e-04 - 26s/epoch - 11ms/step\n"
          ]
        }
      ]
    },
    {
      "cell_type": "code",
      "source": [
        "history.history.keys()"
      ],
      "metadata": {
        "execution": {
          "iopub.status.busy": "2023-09-05T13:09:41.119077Z",
          "iopub.execute_input": "2023-09-05T13:09:41.119435Z",
          "iopub.status.idle": "2023-09-05T13:09:41.126803Z",
          "shell.execute_reply.started": "2023-09-05T13:09:41.119402Z",
          "shell.execute_reply": "2023-09-05T13:09:41.125709Z"
        },
        "trusted": true,
        "colab": {
          "base_uri": "https://localhost:8080/"
        },
        "id": "9CUTLPTnYjPk",
        "outputId": "4b86272c-2d1f-4279-f271-2f39c56e0f6a"
      },
      "execution_count": 64,
      "outputs": [
        {
          "output_type": "execute_result",
          "data": {
            "text/plain": [
              "dict_keys(['loss', 'accuracy', 'val_loss', 'val_accuracy', 'lr'])"
            ]
          },
          "metadata": {},
          "execution_count": 64
        }
      ]
    },
    {
      "cell_type": "code",
      "source": [
        "history.history"
      ],
      "metadata": {
        "execution": {
          "iopub.status.busy": "2023-09-05T13:09:41.128766Z",
          "iopub.execute_input": "2023-09-05T13:09:41.129563Z",
          "iopub.status.idle": "2023-09-05T13:09:41.143523Z",
          "shell.execute_reply.started": "2023-09-05T13:09:41.129525Z",
          "shell.execute_reply": "2023-09-05T13:09:41.142518Z"
        },
        "trusted": true,
        "colab": {
          "base_uri": "https://localhost:8080/"
        },
        "id": "sQxiWyF0YjPk",
        "outputId": "11ba5036-1aad-4f6b-fe62-9c8988ae5693"
      },
      "execution_count": 65,
      "outputs": [
        {
          "output_type": "execute_result",
          "data": {
            "text/plain": [
              "{'loss': [0.725014328956604,\n",
              "  0.6946117877960205,\n",
              "  0.694707989692688,\n",
              "  0.6942952275276184,\n",
              "  0.6941710710525513,\n",
              "  0.6940119862556458,\n",
              "  0.6940484642982483,\n",
              "  0.6938037276268005,\n",
              "  0.6935171484947205,\n",
              "  0.6934899687767029,\n",
              "  0.6933546662330627,\n",
              "  0.6932201385498047,\n",
              "  0.6930975317955017,\n",
              "  0.6932204365730286,\n",
              "  0.6931090354919434,\n",
              "  0.693060040473938,\n",
              "  0.6930039525032043,\n",
              "  0.6930645704269409,\n",
              "  0.6931014060974121,\n",
              "  0.6930918097496033,\n",
              "  0.6930330395698547,\n",
              "  0.6930212378501892],\n",
              " 'accuracy': [0.4986625015735626,\n",
              "  0.501212477684021,\n",
              "  0.5014749765396118,\n",
              "  0.5002999901771545,\n",
              "  0.5020999908447266,\n",
              "  0.5022500157356262,\n",
              "  0.4987249970436096,\n",
              "  0.5010125041007996,\n",
              "  0.5049625039100647,\n",
              "  0.502637505531311,\n",
              "  0.5035125017166138,\n",
              "  0.505649983882904,\n",
              "  0.5044500231742859,\n",
              "  0.5026500225067139,\n",
              "  0.5055249929428101,\n",
              "  0.5060750246047974,\n",
              "  0.5066249966621399,\n",
              "  0.5073624849319458,\n",
              "  0.5050125122070312,\n",
              "  0.5046499967575073,\n",
              "  0.50638747215271,\n",
              "  0.505887508392334],\n",
              " 'val_loss': [0.6935890913009644,\n",
              "  0.6942121386528015,\n",
              "  0.6937318444252014,\n",
              "  0.6936646699905396,\n",
              "  0.6935310363769531,\n",
              "  0.6938706040382385,\n",
              "  0.6937780976295471,\n",
              "  0.6936593651771545,\n",
              "  0.6932984590530396,\n",
              "  0.6931805610656738,\n",
              "  0.6931712627410889,\n",
              "  0.6931634545326233,\n",
              "  0.6932399272918701,\n",
              "  0.6932472586631775,\n",
              "  0.693232536315918,\n",
              "  0.693219006061554,\n",
              "  0.6932839155197144,\n",
              "  0.6932780146598816,\n",
              "  0.6932536959648132,\n",
              "  0.6932997703552246,\n",
              "  0.69330233335495,\n",
              "  0.6932932734489441],\n",
              " 'val_accuracy': [0.5001500248908997,\n",
              "  0.5000500082969666,\n",
              "  0.4978500008583069,\n",
              "  0.5024999976158142,\n",
              "  0.5073999762535095,\n",
              "  0.49775001406669617,\n",
              "  0.5000500082969666,\n",
              "  0.49775001406669617,\n",
              "  0.5026500225067139,\n",
              "  0.5024499893188477,\n",
              "  0.4966000020503998,\n",
              "  0.5023499727249146,\n",
              "  0.4994499981403351,\n",
              "  0.49939998984336853,\n",
              "  0.498199999332428,\n",
              "  0.4996500015258789,\n",
              "  0.5012999773025513,\n",
              "  0.49709999561309814,\n",
              "  0.4988499879837036,\n",
              "  0.4997499883174896,\n",
              "  0.49825000762939453,\n",
              "  0.49764999747276306],\n",
              " 'lr': [0.001,\n",
              "  0.001,\n",
              "  0.001,\n",
              "  0.001,\n",
              "  0.001,\n",
              "  0.001,\n",
              "  0.001,\n",
              "  0.001,\n",
              "  0.001,\n",
              "  0.001,\n",
              "  1e-04,\n",
              "  1e-04,\n",
              "  1e-04,\n",
              "  1e-04,\n",
              "  1e-04,\n",
              "  1e-04,\n",
              "  1e-04,\n",
              "  1e-04,\n",
              "  1e-04,\n",
              "  1e-04,\n",
              "  1e-04,\n",
              "  1e-04]}"
            ]
          },
          "metadata": {},
          "execution_count": 65
        }
      ]
    },
    {
      "cell_type": "code",
      "source": [
        "test_loss, test_accuracy = model.evaluate(X_test, y_test, verbose=0)\n",
        "print(\"Test Accuracy:\", test_accuracy)"
      ],
      "metadata": {
        "execution": {
          "iopub.status.busy": "2023-09-05T13:09:41.144808Z",
          "iopub.execute_input": "2023-09-05T13:09:41.145124Z",
          "iopub.status.idle": "2023-09-05T13:09:42.486545Z",
          "shell.execute_reply.started": "2023-09-05T13:09:41.145099Z",
          "shell.execute_reply": "2023-09-05T13:09:42.485615Z"
        },
        "trusted": true,
        "colab": {
          "base_uri": "https://localhost:8080/"
        },
        "id": "DP4Dl7ZQYjPk",
        "outputId": "9e407642-268f-4f3b-c326-f94262e8f306"
      },
      "execution_count": 66,
      "outputs": [
        {
          "output_type": "stream",
          "name": "stdout",
          "text": [
            "Test Accuracy: 0.5023499727249146\n"
          ]
        }
      ]
    },
    {
      "cell_type": "code",
      "source": [
        "plt.figure(figsize=(12, 4))\n",
        "plt.subplot(1, 2, 1)\n",
        "plt.plot(history.history['loss'], label='Training Loss')\n",
        "plt.plot(history.history['val_loss'], label='Validation Loss')\n",
        "plt.xlabel('Epochs')\n",
        "plt.ylabel('Loss')\n",
        "plt.title('Training and Validation Loss')\n",
        "plt.legend()\n",
        "\n",
        "plt.subplot(1, 2, 2)\n",
        "plt.plot(history.history['accuracy'], label='Training Accuracy')\n",
        "plt.plot(history.history['val_accuracy'], label='Validation Accuracy')\n",
        "plt.xlabel('Epochs')\n",
        "plt.ylabel('Accuracy')\n",
        "plt.title('Training and Validation Accuracy')\n",
        "plt.legend()\n",
        "\n",
        "plt.figure(figsize=(6, 4))\n",
        "plt.plot(history.history['lr'], label='Learning Rate')\n",
        "plt.xlabel('Epochs')\n",
        "plt.ylabel('Learning Rate')\n",
        "plt.title('Learning Rate Schedule')\n",
        "plt.legend()\n",
        "\n",
        "plt.tight_layout()\n",
        "plt.show()\n"
      ],
      "metadata": {
        "execution": {
          "iopub.status.busy": "2023-09-05T13:09:42.487823Z",
          "iopub.execute_input": "2023-09-05T13:09:42.488182Z",
          "iopub.status.idle": "2023-09-05T13:09:43.330175Z",
          "shell.execute_reply.started": "2023-09-05T13:09:42.488146Z",
          "shell.execute_reply": "2023-09-05T13:09:43.329200Z"
        },
        "trusted": true,
        "colab": {
          "base_uri": "https://localhost:8080/",
          "height": 800
        },
        "id": "6i0eQgC1YjPk",
        "outputId": "655660d2-ec8a-4152-c1e9-396a541f53ed"
      },
      "execution_count": 67,
      "outputs": [
        {
          "output_type": "display_data",
          "data": {
            "text/plain": [
              "<Figure size 1200x400 with 2 Axes>"
            ],
            "image/png": "[encoded data removed]"
          },
          "metadata": {}
        },
        {
          "output_type": "display_data",
          "data": {
            "text/plain": [
              "<Figure size 600x400 with 1 Axes>"
            ],
            "image/png": "[encoded data removed]"
          },
          "metadata": {}
        }
      ]
    },
    {
      "cell_type": "code",
      "source": [
        "y_pred_nn = model.predict(X_test)\n",
        "y_pred_nn_binary = (y_pred_nn > 0.5).astype(int)\n",
        "\n",
        "accuracy_nn = accuracy_score(y_test, y_pred_nn_binary)\n",
        "precision_nn = precision_score(y_test, y_pred_nn_binary)\n",
        "recall_nn = recall_score(y_test, y_pred_nn_binary)\n",
        "f1_score_nn = f1_score(y_test, y_pred_nn_binary)\n",
        "\n",
        "print(\"Neural Network Metrics:\")\n",
        "print(f\"Accuracy: {accuracy_nn:.4f}\")\n",
        "print(f\"Precision: {precision_nn:.4f}\")\n",
        "print(f\"Recall: {recall_nn:.4f}\")\n",
        "print(f\"F1-Score: {f1_score_nn:.4f}\")\n",
        "\n",
        "print(\"\\nClassification Report:\")\n",
        "print(classification_report(y_test, y_pred_nn_binary))\n"
      ],
      "metadata": {
        "execution": {
          "iopub.status.busy": "2023-09-05T13:09:43.331470Z",
          "iopub.execute_input": "2023-09-05T13:09:43.332439Z",
          "iopub.status.idle": "2023-09-05T13:09:44.979537Z",
          "shell.execute_reply.started": "2023-09-05T13:09:43.332399Z",
          "shell.execute_reply": "2023-09-05T13:09:44.978470Z"
        },
        "trusted": true,
        "colab": {
          "base_uri": "https://localhost:8080/"
        },
        "id": "4tIXFT7XYjPk",
        "outputId": "0a9d9643-4bed-4818-87ab-8d42138d351d"
      },
      "execution_count": 68,
      "outputs": [
        {
          "output_type": "stream",
          "name": "stdout",
          "text": [
            "625/625 [==============================] - 2s 3ms/step\n",
            "Neural Network Metrics:\n",
            "Accuracy: 0.5023\n",
            "Precision: 0.4983\n",
            "Recall: 0.4685\n",
            "F1-Score: 0.4829\n",
            "\n",
            "Classification Report:\n",
            "              precision    recall  f1-score   support\n",
            "\n",
            "         0.0       0.51      0.54      0.52     10079\n",
            "         1.0       0.50      0.47      0.48      9921\n",
            "\n",
            "    accuracy                           0.50     20000\n",
            "   macro avg       0.50      0.50      0.50     20000\n",
            "weighted avg       0.50      0.50      0.50     20000\n",
            "\n"
          ]
        }
      ]
    },
    {
      "cell_type": "markdown",
      "source": [
        "**In this case, the logistic regression model achieved a slightly higher accuracy of 50.6%, compared to the neural network's accuracy of 50.4%. Therefore, I will proceed to build the model using logistic regression on the complete dataset and prepare the pipeline for deployment, which you can download for future use.**"
      ],
      "metadata": {
        "id": "ALmj6PqoYjPl"
      }
    }
  ]
}